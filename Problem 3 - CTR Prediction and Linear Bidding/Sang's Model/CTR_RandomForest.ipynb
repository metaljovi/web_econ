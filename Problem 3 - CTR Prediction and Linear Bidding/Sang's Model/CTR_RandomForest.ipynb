{
 "cells": [
  {
   "cell_type": "code",
   "execution_count": 1,
   "metadata": {
    "collapsed": true
   },
   "outputs": [],
   "source": [
    "from ipywidgets import FloatProgress\n",
    "from IPython.display import display\n",
    "import graphlab as gl\n",
    "import pandas as pd"
   ]
  },
  {
   "cell_type": "code",
   "execution_count": 2,
   "metadata": {},
   "outputs": [
    {
     "name": "stderr",
     "output_type": "stream",
     "text": [
      "[INFO] graphlab.cython.cy_server: GraphLab Create v2.1 started. Logging: /tmp/graphlab_server_1492083056.log\n"
     ]
    },
    {
     "name": "stdout",
     "output_type": "stream",
     "text": [
      "This non-commercial license of GraphLab Create for academic use is assigned to sang.song.16@ucl.ac.uk and will expire on April 05, 2018.\n"
     ]
    },
    {
     "data": {
      "text/html": [
       "<pre>Finished parsing file /Users/ssong/Downloads/WebEcon/train.csv</pre>"
      ],
      "text/plain": [
       "Finished parsing file /Users/ssong/Downloads/WebEcon/train.csv"
      ]
     },
     "metadata": {},
     "output_type": "display_data"
    },
    {
     "data": {
      "text/html": [
       "<pre>Parsing completed. Parsed 100 lines in 0.858808 secs.</pre>"
      ],
      "text/plain": [
       "Parsing completed. Parsed 100 lines in 0.858808 secs."
      ]
     },
     "metadata": {},
     "output_type": "display_data"
    },
    {
     "name": "stdout",
     "output_type": "stream",
     "text": [
      "------------------------------------------------------\n",
      "Inferred types from first 100 line(s) of file as \n",
      "column_type_hints=[int,int,int,str,int,str,str,str,int,int,str,str,str,str,str,int,int,str,str,int,str,int,int,str,int,str]\n",
      "If parsing fails due to incorrect types, you can correct\n",
      "the inferred type list above and pass it to read_csv in\n",
      "the column_type_hints argument\n",
      "------------------------------------------------------\n"
     ]
    },
    {
     "data": {
      "text/html": [
       "<pre>Read 186256 lines. Lines per second: 127128</pre>"
      ],
      "text/plain": [
       "Read 186256 lines. Lines per second: 127128"
      ]
     },
     "metadata": {},
     "output_type": "display_data"
    },
    {
     "data": {
      "text/html": [
       "<pre>Read 1303583 lines. Lines per second: 194646</pre>"
      ],
      "text/plain": [
       "Read 1303583 lines. Lines per second: 194646"
      ]
     },
     "metadata": {},
     "output_type": "display_data"
    },
    {
     "data": {
      "text/html": [
       "<pre>Read 2420901 lines. Lines per second: 198325</pre>"
      ],
      "text/plain": [
       "Read 2420901 lines. Lines per second: 198325"
      ]
     },
     "metadata": {},
     "output_type": "display_data"
    },
    {
     "data": {
      "text/html": [
       "<pre>Finished parsing file /Users/ssong/Downloads/WebEcon/train.csv</pre>"
      ],
      "text/plain": [
       "Finished parsing file /Users/ssong/Downloads/WebEcon/train.csv"
      ]
     },
     "metadata": {},
     "output_type": "display_data"
    },
    {
     "data": {
      "text/html": [
       "<pre>Parsing completed. Parsed 2697738 lines in 13.5485 secs.</pre>"
      ],
      "text/plain": [
       "Parsing completed. Parsed 2697738 lines in 13.5485 secs."
      ]
     },
     "metadata": {},
     "output_type": "display_data"
    },
    {
     "data": {
      "text/html": [
       "<pre>Finished parsing file /Users/ssong/Downloads/WebEcon/validation.csv</pre>"
      ],
      "text/plain": [
       "Finished parsing file /Users/ssong/Downloads/WebEcon/validation.csv"
      ]
     },
     "metadata": {},
     "output_type": "display_data"
    },
    {
     "data": {
      "text/html": [
       "<pre>Parsing completed. Parsed 100 lines in 0.819096 secs.</pre>"
      ],
      "text/plain": [
       "Parsing completed. Parsed 100 lines in 0.819096 secs."
      ]
     },
     "metadata": {},
     "output_type": "display_data"
    },
    {
     "name": "stdout",
     "output_type": "stream",
     "text": [
      "------------------------------------------------------\n",
      "Inferred types from first 100 line(s) of file as \n",
      "column_type_hints=[int,int,int,str,int,str,str,str,int,int,str,str,str,str,str,int,int,str,str,int,str,int,int,str,int,str]\n",
      "If parsing fails due to incorrect types, you can correct\n",
      "the inferred type list above and pass it to read_csv in\n",
      "the column_type_hints argument\n",
      "------------------------------------------------------\n"
     ]
    },
    {
     "data": {
      "text/html": [
       "<pre>Read 186177 lines. Lines per second: 138469</pre>"
      ],
      "text/plain": [
       "Read 186177 lines. Lines per second: 138469"
      ]
     },
     "metadata": {},
     "output_type": "display_data"
    },
    {
     "data": {
      "text/html": [
       "<pre>Finished parsing file /Users/ssong/Downloads/WebEcon/validation.csv</pre>"
      ],
      "text/plain": [
       "Finished parsing file /Users/ssong/Downloads/WebEcon/validation.csv"
      ]
     },
     "metadata": {},
     "output_type": "display_data"
    },
    {
     "data": {
      "text/html": [
       "<pre>Parsing completed. Parsed 299749 lines in 1.79163 secs.</pre>"
      ],
      "text/plain": [
       "Parsing completed. Parsed 299749 lines in 1.79163 secs."
      ]
     },
     "metadata": {},
     "output_type": "display_data"
    }
   ],
   "source": [
    "df_train = gl.SFrame('/Users/ssong/Downloads/WebEcon/train.csv')\n",
    "df_val = gl.SFrame('/Users/ssong/Downloads/WebEcon/validation.csv')"
   ]
  },
  {
   "cell_type": "code",
   "execution_count": 16,
   "metadata": {},
   "outputs": [
    {
     "data": {
      "text/html": [
       "<div style=\"max-height:1000px;max-width:1500px;overflow:auto;\"><table frame=\"box\" rules=\"cols\">\n",
       "    <tr>\n",
       "        <th style=\"padding-left: 1em; padding-right: 1em; text-align: center\">click</th>\n",
       "        <th style=\"padding-left: 1em; padding-right: 1em; text-align: center\">weekday</th>\n",
       "        <th style=\"padding-left: 1em; padding-right: 1em; text-align: center\">hour</th>\n",
       "        <th style=\"padding-left: 1em; padding-right: 1em; text-align: center\">bidid</th>\n",
       "        <th style=\"padding-left: 1em; padding-right: 1em; text-align: center\">logtype</th>\n",
       "        <th style=\"padding-left: 1em; padding-right: 1em; text-align: center\">userid</th>\n",
       "        <th style=\"padding-left: 1em; padding-right: 1em; text-align: center\">useragent</th>\n",
       "        <th style=\"padding-left: 1em; padding-right: 1em; text-align: center\">IP</th>\n",
       "    </tr>\n",
       "    <tr>\n",
       "        <td style=\"padding-left: 1em; padding-right: 1em; text-align: center; vertical-align: top\">0</td>\n",
       "        <td style=\"padding-left: 1em; padding-right: 1em; text-align: center; vertical-align: top\">1</td>\n",
       "        <td style=\"padding-left: 1em; padding-right: 1em; text-align: center; vertical-align: top\">14</td>\n",
       "        <td style=\"padding-left: 1em; padding-right: 1em; text-align: center; vertical-align: top\">fdfae6789b787899f1b875de3<br>ab8b21a ...</td>\n",
       "        <td style=\"padding-left: 1em; padding-right: 1em; text-align: center; vertical-align: top\">1</td>\n",
       "        <td style=\"padding-left: 1em; padding-right: 1em; text-align: center; vertical-align: top\">u_Vh1OPkFv3q5CFdR</td>\n",
       "        <td style=\"padding-left: 1em; padding-right: 1em; text-align: center; vertical-align: top\">windows_ie</td>\n",
       "        <td style=\"padding-left: 1em; padding-right: 1em; text-align: center; vertical-align: top\">180.107.112.*</td>\n",
       "    </tr>\n",
       "    <tr>\n",
       "        <td style=\"padding-left: 1em; padding-right: 1em; text-align: center; vertical-align: top\">0</td>\n",
       "        <td style=\"padding-left: 1em; padding-right: 1em; text-align: center; vertical-align: top\">2</td>\n",
       "        <td style=\"padding-left: 1em; padding-right: 1em; text-align: center; vertical-align: top\">20</td>\n",
       "        <td style=\"padding-left: 1em; padding-right: 1em; text-align: center; vertical-align: top\">372883147cdefbc495fb5082f<br>79dde9b ...</td>\n",
       "        <td style=\"padding-left: 1em; padding-right: 1em; text-align: center; vertical-align: top\">1</td>\n",
       "        <td style=\"padding-left: 1em; padding-right: 1em; text-align: center; vertical-align: top\">u_VhkRL6dCOTLsq-c</td>\n",
       "        <td style=\"padding-left: 1em; padding-right: 1em; text-align: center; vertical-align: top\">windows_chrome</td>\n",
       "        <td style=\"padding-left: 1em; padding-right: 1em; text-align: center; vertical-align: top\">125.120.199.*</td>\n",
       "    </tr>\n",
       "    <tr>\n",
       "        <td style=\"padding-left: 1em; padding-right: 1em; text-align: center; vertical-align: top\">0</td>\n",
       "        <td style=\"padding-left: 1em; padding-right: 1em; text-align: center; vertical-align: top\">5</td>\n",
       "        <td style=\"padding-left: 1em; padding-right: 1em; text-align: center; vertical-align: top\">9</td>\n",
       "        <td style=\"padding-left: 1em; padding-right: 1em; text-align: center; vertical-align: top\">2912cb5947e1fad450e2473c2<br>f61ef75 ...</td>\n",
       "        <td style=\"padding-left: 1em; padding-right: 1em; text-align: center; vertical-align: top\">1</td>\n",
       "        <td style=\"padding-left: 1em; padding-right: 1em; text-align: center; vertical-align: top\">u_VhkyORMrD8TP3GL</td>\n",
       "        <td style=\"padding-left: 1em; padding-right: 1em; text-align: center; vertical-align: top\">windows_ie</td>\n",
       "        <td style=\"padding-left: 1em; padding-right: 1em; text-align: center; vertical-align: top\">120.196.64.*</td>\n",
       "    </tr>\n",
       "    <tr>\n",
       "        <td style=\"padding-left: 1em; padding-right: 1em; text-align: center; vertical-align: top\">0</td>\n",
       "        <td style=\"padding-left: 1em; padding-right: 1em; text-align: center; vertical-align: top\">2</td>\n",
       "        <td style=\"padding-left: 1em; padding-right: 1em; text-align: center; vertical-align: top\">20</td>\n",
       "        <td style=\"padding-left: 1em; padding-right: 1em; text-align: center; vertical-align: top\">d7b7d61d1e50e1d27d210928d<br>28a9b61 ...</td>\n",
       "        <td style=\"padding-left: 1em; padding-right: 1em; text-align: center; vertical-align: top\">1</td>\n",
       "        <td style=\"padding-left: 1em; padding-right: 1em; text-align: center; vertical-align: top\">u_VhkyLRqVL2a4eWL</td>\n",
       "        <td style=\"padding-left: 1em; padding-right: 1em; text-align: center; vertical-align: top\">windows_ie</td>\n",
       "        <td style=\"padding-left: 1em; padding-right: 1em; text-align: center; vertical-align: top\">219.131.122.*</td>\n",
       "    </tr>\n",
       "    <tr>\n",
       "        <td style=\"padding-left: 1em; padding-right: 1em; text-align: center; vertical-align: top\">0</td>\n",
       "        <td style=\"padding-left: 1em; padding-right: 1em; text-align: center; vertical-align: top\">6</td>\n",
       "        <td style=\"padding-left: 1em; padding-right: 1em; text-align: center; vertical-align: top\">9</td>\n",
       "        <td style=\"padding-left: 1em; padding-right: 1em; text-align: center; vertical-align: top\">657d317dc4045bb79c2652abb<br>ea07530 ...</td>\n",
       "        <td style=\"padding-left: 1em; padding-right: 1em; text-align: center; vertical-align: top\">1</td>\n",
       "        <td style=\"padding-left: 1em; padding-right: 1em; text-align: center; vertical-align: top\">u_Vh1zOJuQOtTCBgL</td>\n",
       "        <td style=\"padding-left: 1em; padding-right: 1em; text-align: center; vertical-align: top\">windows_chrome</td>\n",
       "        <td style=\"padding-left: 1em; padding-right: 1em; text-align: center; vertical-align: top\">123.190.78.*</td>\n",
       "    </tr>\n",
       "    <tr>\n",
       "        <td style=\"padding-left: 1em; padding-right: 1em; text-align: center; vertical-align: top\">0</td>\n",
       "        <td style=\"padding-left: 1em; padding-right: 1em; text-align: center; vertical-align: top\">3</td>\n",
       "        <td style=\"padding-left: 1em; padding-right: 1em; text-align: center; vertical-align: top\">22</td>\n",
       "        <td style=\"padding-left: 1em; padding-right: 1em; text-align: center; vertical-align: top\">97948108bc353d0f3ef1e0142<br>afb0343 ...</td>\n",
       "        <td style=\"padding-left: 1em; padding-right: 1em; text-align: center; vertical-align: top\">1</td>\n",
       "        <td style=\"padding-left: 1em; padding-right: 1em; text-align: center; vertical-align: top\">u_Vh5h1p2SDvFsGMa</td>\n",
       "        <td style=\"padding-left: 1em; padding-right: 1em; text-align: center; vertical-align: top\">windows_ie</td>\n",
       "        <td style=\"padding-left: 1em; padding-right: 1em; text-align: center; vertical-align: top\">111.227.172.*</td>\n",
       "    </tr>\n",
       "    <tr>\n",
       "        <td style=\"padding-left: 1em; padding-right: 1em; text-align: center; vertical-align: top\">0</td>\n",
       "        <td style=\"padding-left: 1em; padding-right: 1em; text-align: center; vertical-align: top\">5</td>\n",
       "        <td style=\"padding-left: 1em; padding-right: 1em; text-align: center; vertical-align: top\">16</td>\n",
       "        <td style=\"padding-left: 1em; padding-right: 1em; text-align: center; vertical-align: top\">26739c29a9294f157930f3f5b<br>b7f5dc9 ...</td>\n",
       "        <td style=\"padding-left: 1em; padding-right: 1em; text-align: center; vertical-align: top\">1</td>\n",
       "        <td style=\"padding-left: 1em; padding-right: 1em; text-align: center; vertical-align: top\">u_D89EGm6FGGV</td>\n",
       "        <td style=\"padding-left: 1em; padding-right: 1em; text-align: center; vertical-align: top\">windows_chrome</td>\n",
       "        <td style=\"padding-left: 1em; padding-right: 1em; text-align: center; vertical-align: top\">27.46.201.*</td>\n",
       "    </tr>\n",
       "    <tr>\n",
       "        <td style=\"padding-left: 1em; padding-right: 1em; text-align: center; vertical-align: top\">0</td>\n",
       "        <td style=\"padding-left: 1em; padding-right: 1em; text-align: center; vertical-align: top\">0</td>\n",
       "        <td style=\"padding-left: 1em; padding-right: 1em; text-align: center; vertical-align: top\">21</td>\n",
       "        <td style=\"padding-left: 1em; padding-right: 1em; text-align: center; vertical-align: top\">404f5a6f3a1dde4ae1811646c<br>065df3c ...</td>\n",
       "        <td style=\"padding-left: 1em; padding-right: 1em; text-align: center; vertical-align: top\">1</td>\n",
       "        <td style=\"padding-left: 1em; padding-right: 1em; text-align: center; vertical-align: top\">u_D9MLsHCazAr</td>\n",
       "        <td style=\"padding-left: 1em; padding-right: 1em; text-align: center; vertical-align: top\">windows_chrome</td>\n",
       "        <td style=\"padding-left: 1em; padding-right: 1em; text-align: center; vertical-align: top\">112.92.88.*</td>\n",
       "    </tr>\n",
       "    <tr>\n",
       "        <td style=\"padding-left: 1em; padding-right: 1em; text-align: center; vertical-align: top\">0</td>\n",
       "        <td style=\"padding-left: 1em; padding-right: 1em; text-align: center; vertical-align: top\">4</td>\n",
       "        <td style=\"padding-left: 1em; padding-right: 1em; text-align: center; vertical-align: top\">17</td>\n",
       "        <td style=\"padding-left: 1em; padding-right: 1em; text-align: center; vertical-align: top\">39095668ca6fd532b7c6d3dfa<br>d538997 ...</td>\n",
       "        <td style=\"padding-left: 1em; padding-right: 1em; text-align: center; vertical-align: top\">1</td>\n",
       "        <td style=\"padding-left: 1em; padding-right: 1em; text-align: center; vertical-align: top\">u_Vh5_LAT0322yFOl</td>\n",
       "        <td style=\"padding-left: 1em; padding-right: 1em; text-align: center; vertical-align: top\">windows_ie</td>\n",
       "        <td style=\"padding-left: 1em; padding-right: 1em; text-align: center; vertical-align: top\">218.77.12.*</td>\n",
       "    </tr>\n",
       "    <tr>\n",
       "        <td style=\"padding-left: 1em; padding-right: 1em; text-align: center; vertical-align: top\">0</td>\n",
       "        <td style=\"padding-left: 1em; padding-right: 1em; text-align: center; vertical-align: top\">0</td>\n",
       "        <td style=\"padding-left: 1em; padding-right: 1em; text-align: center; vertical-align: top\">17</td>\n",
       "        <td style=\"padding-left: 1em; padding-right: 1em; text-align: center; vertical-align: top\">dd3e2fd0370f672e6cbc55976<br>73f72e1 ...</td>\n",
       "        <td style=\"padding-left: 1em; padding-right: 1em; text-align: center; vertical-align: top\">1</td>\n",
       "        <td style=\"padding-left: 1em; padding-right: 1em; text-align: center; vertical-align: top\">u_VhTnL7d7PtB8XWC</td>\n",
       "        <td style=\"padding-left: 1em; padding-right: 1em; text-align: center; vertical-align: top\">windows_ie</td>\n",
       "        <td style=\"padding-left: 1em; padding-right: 1em; text-align: center; vertical-align: top\">122.137.146.*</td>\n",
       "    </tr>\n",
       "</table>\n",
       "<table frame=\"box\" rules=\"cols\">\n",
       "    <tr>\n",
       "        <th style=\"padding-left: 1em; padding-right: 1em; text-align: center\">region</th>\n",
       "        <th style=\"padding-left: 1em; padding-right: 1em; text-align: center\">city</th>\n",
       "        <th style=\"padding-left: 1em; padding-right: 1em; text-align: center\">adexchange</th>\n",
       "        <th style=\"padding-left: 1em; padding-right: 1em; text-align: center\">domain</th>\n",
       "        <th style=\"padding-left: 1em; padding-right: 1em; text-align: center\">url</th>\n",
       "        <th style=\"padding-left: 1em; padding-right: 1em; text-align: center\">urlid</th>\n",
       "        <th style=\"padding-left: 1em; padding-right: 1em; text-align: center\">slotid</th>\n",
       "    </tr>\n",
       "    <tr>\n",
       "        <td style=\"padding-left: 1em; padding-right: 1em; text-align: center; vertical-align: top\">80</td>\n",
       "        <td style=\"padding-left: 1em; padding-right: 1em; text-align: center; vertical-align: top\">85</td>\n",
       "        <td style=\"padding-left: 1em; padding-right: 1em; text-align: center; vertical-align: top\">2</td>\n",
       "        <td style=\"padding-left: 1em; padding-right: 1em; text-align: center; vertical-align: top\">trqRTuToMTNUjM9r5rMi</td>\n",
       "        <td style=\"padding-left: 1em; padding-right: 1em; text-align: center; vertical-align: top\">d48a96ab59d7ad741a48e781d<br>e44efeb ...</td>\n",
       "        <td style=\"padding-left: 1em; padding-right: 1em; text-align: center; vertical-align: top\">null</td>\n",
       "        <td style=\"padding-left: 1em; padding-right: 1em; text-align: center; vertical-align: top\">433287550</td>\n",
       "    </tr>\n",
       "    <tr>\n",
       "        <td style=\"padding-left: 1em; padding-right: 1em; text-align: center; vertical-align: top\">94</td>\n",
       "        <td style=\"padding-left: 1em; padding-right: 1em; text-align: center; vertical-align: top\">95</td>\n",
       "        <td style=\"padding-left: 1em; padding-right: 1em; text-align: center; vertical-align: top\">2</td>\n",
       "        <td style=\"padding-left: 1em; padding-right: 1em; text-align: center; vertical-align: top\">trqRTv14MqTR1m58uG</td>\n",
       "        <td style=\"padding-left: 1em; padding-right: 1em; text-align: center; vertical-align: top\">313e110c149d24b3236165d30<br>879c595 ...</td>\n",
       "        <td style=\"padding-left: 1em; padding-right: 1em; text-align: center; vertical-align: top\">null</td>\n",
       "        <td style=\"padding-left: 1em; padding-right: 1em; text-align: center; vertical-align: top\">2264242698</td>\n",
       "    </tr>\n",
       "    <tr>\n",
       "        <td style=\"padding-left: 1em; padding-right: 1em; text-align: center; vertical-align: top\">216</td>\n",
       "        <td style=\"padding-left: 1em; padding-right: 1em; text-align: center; vertical-align: top\">217</td>\n",
       "        <td style=\"padding-left: 1em; padding-right: 1em; text-align: center; vertical-align: top\">1</td>\n",
       "        <td style=\"padding-left: 1em; padding-right: 1em; text-align: center; vertical-align: top\">trqRTJTxX5scg4</td>\n",
       "        <td style=\"padding-left: 1em; padding-right: 1em; text-align: center; vertical-align: top\">845b72208c27b993daa11c810<br>4449e22 ...</td>\n",
       "        <td style=\"padding-left: 1em; padding-right: 1em; text-align: center; vertical-align: top\">null</td>\n",
       "        <td style=\"padding-left: 1em; padding-right: 1em; text-align: center; vertical-align: top\">mm_40135906_3486753_11388<br>735 ...</td>\n",
       "    </tr>\n",
       "    <tr>\n",
       "        <td style=\"padding-left: 1em; padding-right: 1em; text-align: center; vertical-align: top\">216</td>\n",
       "        <td style=\"padding-left: 1em; padding-right: 1em; text-align: center; vertical-align: top\">221</td>\n",
       "        <td style=\"padding-left: 1em; padding-right: 1em; text-align: center; vertical-align: top\">2</td>\n",
       "        <td style=\"padding-left: 1em; padding-right: 1em; text-align: center; vertical-align: top\">trqRTuMvjTN7X9KbuKz</td>\n",
       "        <td style=\"padding-left: 1em; padding-right: 1em; text-align: center; vertical-align: top\">ea6709db2703ae8698755629f<br>1f9df32 ...</td>\n",
       "        <td style=\"padding-left: 1em; padding-right: 1em; text-align: center; vertical-align: top\">null</td>\n",
       "        <td style=\"padding-left: 1em; padding-right: 1em; text-align: center; vertical-align: top\">2536830969</td>\n",
       "    </tr>\n",
       "    <tr>\n",
       "        <td style=\"padding-left: 1em; padding-right: 1em; text-align: center; vertical-align: top\">40</td>\n",
       "        <td style=\"padding-left: 1em; padding-right: 1em; text-align: center; vertical-align: top\">48</td>\n",
       "        <td style=\"padding-left: 1em; padding-right: 1em; text-align: center; vertical-align: top\">1</td>\n",
       "        <td style=\"padding-left: 1em; padding-right: 1em; text-align: center; vertical-align: top\">trqRTu1YP5scFsf</td>\n",
       "        <td style=\"padding-left: 1em; padding-right: 1em; text-align: center; vertical-align: top\">b7b8e74eefbdd5cc1a9f0acb2<br>e5c0d6c ...</td>\n",
       "        <td style=\"padding-left: 1em; padding-right: 1em; text-align: center; vertical-align: top\">null</td>\n",
       "        <td style=\"padding-left: 1em; padding-right: 1em; text-align: center; vertical-align: top\">mm_10075660_3500949_11453<br>278 ...</td>\n",
       "    </tr>\n",
       "    <tr>\n",
       "        <td style=\"padding-left: 1em; padding-right: 1em; text-align: center; vertical-align: top\">3</td>\n",
       "        <td style=\"padding-left: 1em; padding-right: 1em; text-align: center; vertical-align: top\">6</td>\n",
       "        <td style=\"padding-left: 1em; padding-right: 1em; text-align: center; vertical-align: top\">1</td>\n",
       "        <td style=\"padding-left: 1em; padding-right: 1em; text-align: center; vertical-align: top\">trqRTJubX5scFsf</td>\n",
       "        <td style=\"padding-left: 1em; padding-right: 1em; text-align: center; vertical-align: top\">37bdc8299d3b42e6f04ccf4fc<br>a64bacc ...</td>\n",
       "        <td style=\"padding-left: 1em; padding-right: 1em; text-align: center; vertical-align: top\">null</td>\n",
       "        <td style=\"padding-left: 1em; padding-right: 1em; text-align: center; vertical-align: top\">mm_14539978_2071324_83552<br>58 ...</td>\n",
       "    </tr>\n",
       "    <tr>\n",
       "        <td style=\"padding-left: 1em; padding-right: 1em; text-align: center; vertical-align: top\">216</td>\n",
       "        <td style=\"padding-left: 1em; padding-right: 1em; text-align: center; vertical-align: top\">217</td>\n",
       "        <td style=\"padding-left: 1em; padding-right: 1em; text-align: center; vertical-align: top\">2</td>\n",
       "        <td style=\"padding-left: 1em; padding-right: 1em; text-align: center; vertical-align: top\">333a4ab5e4ae8e17d7ca86237<br>721ba7a ...</td>\n",
       "        <td style=\"padding-left: 1em; padding-right: 1em; text-align: center; vertical-align: top\">4bf89e8bc0f9e55e830508744<br>1b5276c ...</td>\n",
       "        <td style=\"padding-left: 1em; padding-right: 1em; text-align: center; vertical-align: top\">null</td>\n",
       "        <td style=\"padding-left: 1em; padding-right: 1em; text-align: center; vertical-align: top\">2932492844</td>\n",
       "    </tr>\n",
       "    <tr>\n",
       "        <td style=\"padding-left: 1em; padding-right: 1em; text-align: center; vertical-align: top\">216</td>\n",
       "        <td style=\"padding-left: 1em; padding-right: 1em; text-align: center; vertical-align: top\">220</td>\n",
       "        <td style=\"padding-left: 1em; padding-right: 1em; text-align: center; vertical-align: top\">4</td>\n",
       "        <td style=\"padding-left: 1em; padding-right: 1em; text-align: center; vertical-align: top\">1164f4caea2d39bc9dcc8dd22<br>bb0e5c8 ...</td>\n",
       "        <td style=\"padding-left: 1em; padding-right: 1em; text-align: center; vertical-align: top\">37a58da844768798ec368daff<br>8a5e94b ...</td>\n",
       "        <td style=\"padding-left: 1em; padding-right: 1em; text-align: center; vertical-align: top\">null</td>\n",
       "        <td style=\"padding-left: 1em; padding-right: 1em; text-align: center; vertical-align: top\">9223372032560960619</td>\n",
       "    </tr>\n",
       "    <tr>\n",
       "        <td style=\"padding-left: 1em; padding-right: 1em; text-align: center; vertical-align: top\">201</td>\n",
       "        <td style=\"padding-left: 1em; padding-right: 1em; text-align: center; vertical-align: top\">213</td>\n",
       "        <td style=\"padding-left: 1em; padding-right: 1em; text-align: center; vertical-align: top\">2</td>\n",
       "        <td style=\"padding-left: 1em; padding-right: 1em; text-align: center; vertical-align: top\">trqRTv1EXQuYgMKE5SqW</td>\n",
       "        <td style=\"padding-left: 1em; padding-right: 1em; text-align: center; vertical-align: top\">da7852090bb61af96fbcd2989<br>8929149 ...</td>\n",
       "        <td style=\"padding-left: 1em; padding-right: 1em; text-align: center; vertical-align: top\">null</td>\n",
       "        <td style=\"padding-left: 1em; padding-right: 1em; text-align: center; vertical-align: top\">3151450371</td>\n",
       "    </tr>\n",
       "    <tr>\n",
       "        <td style=\"padding-left: 1em; padding-right: 1em; text-align: center; vertical-align: top\">55</td>\n",
       "        <td style=\"padding-left: 1em; padding-right: 1em; text-align: center; vertical-align: top\">57</td>\n",
       "        <td style=\"padding-left: 1em; padding-right: 1em; text-align: center; vertical-align: top\">3</td>\n",
       "        <td style=\"padding-left: 1em; padding-right: 1em; text-align: center; vertical-align: top\">5F1RQS9rg5scFsf</td>\n",
       "        <td style=\"padding-left: 1em; padding-right: 1em; text-align: center; vertical-align: top\">19422c57c90579925952ed859<br>eaf3f4d ...</td>\n",
       "        <td style=\"padding-left: 1em; padding-right: 1em; text-align: center; vertical-align: top\">null</td>\n",
       "        <td style=\"padding-left: 1em; padding-right: 1em; text-align: center; vertical-align: top\">News_F_bottom_Width</td>\n",
       "    </tr>\n",
       "</table>\n",
       "<table frame=\"box\" rules=\"cols\">\n",
       "    <tr>\n",
       "        <th style=\"padding-left: 1em; padding-right: 1em; text-align: center\">slotwidth</th>\n",
       "        <th style=\"padding-left: 1em; padding-right: 1em; text-align: center\">slotheight</th>\n",
       "        <th style=\"padding-left: 1em; padding-right: 1em; text-align: center\">slotvisibility</th>\n",
       "        <th style=\"padding-left: 1em; padding-right: 1em; text-align: center\">slotformat</th>\n",
       "        <th style=\"padding-left: 1em; padding-right: 1em; text-align: center\">slotprice</th>\n",
       "        <th style=\"padding-left: 1em; padding-right: 1em; text-align: center\">creative</th>\n",
       "        <th style=\"padding-left: 1em; padding-right: 1em; text-align: center\">bidprice</th>\n",
       "        <th style=\"padding-left: 1em; padding-right: 1em; text-align: center\">payprice</th>\n",
       "    </tr>\n",
       "    <tr>\n",
       "        <td style=\"padding-left: 1em; padding-right: 1em; text-align: center; vertical-align: top\">468</td>\n",
       "        <td style=\"padding-left: 1em; padding-right: 1em; text-align: center; vertical-align: top\">60</td>\n",
       "        <td style=\"padding-left: 1em; padding-right: 1em; text-align: center; vertical-align: top\">1</td>\n",
       "        <td style=\"padding-left: 1em; padding-right: 1em; text-align: center; vertical-align: top\">0</td>\n",
       "        <td style=\"padding-left: 1em; padding-right: 1em; text-align: center; vertical-align: top\">5</td>\n",
       "        <td style=\"padding-left: 1em; padding-right: 1em; text-align: center; vertical-align: top\">612599432d200b093719dd1f3<br>72f7a30 ...</td>\n",
       "        <td style=\"padding-left: 1em; padding-right: 1em; text-align: center; vertical-align: top\">300</td>\n",
       "        <td style=\"padding-left: 1em; padding-right: 1em; text-align: center; vertical-align: top\">54</td>\n",
       "    </tr>\n",
       "    <tr>\n",
       "        <td style=\"padding-left: 1em; padding-right: 1em; text-align: center; vertical-align: top\">250</td>\n",
       "        <td style=\"padding-left: 1em; padding-right: 1em; text-align: center; vertical-align: top\">250</td>\n",
       "        <td style=\"padding-left: 1em; padding-right: 1em; text-align: center; vertical-align: top\">1</td>\n",
       "        <td style=\"padding-left: 1em; padding-right: 1em; text-align: center; vertical-align: top\">0</td>\n",
       "        <td style=\"padding-left: 1em; padding-right: 1em; text-align: center; vertical-align: top\">5</td>\n",
       "        <td style=\"padding-left: 1em; padding-right: 1em; text-align: center; vertical-align: top\">8dff45ed862a740986dbe688a<br>afee7e5 ...</td>\n",
       "        <td style=\"padding-left: 1em; padding-right: 1em; text-align: center; vertical-align: top\">249</td>\n",
       "        <td style=\"padding-left: 1em; padding-right: 1em; text-align: center; vertical-align: top\">42</td>\n",
       "    </tr>\n",
       "    <tr>\n",
       "        <td style=\"padding-left: 1em; padding-right: 1em; text-align: center; vertical-align: top\">336</td>\n",
       "        <td style=\"padding-left: 1em; padding-right: 1em; text-align: center; vertical-align: top\">280</td>\n",
       "        <td style=\"padding-left: 1em; padding-right: 1em; text-align: center; vertical-align: top\">0</td>\n",
       "        <td style=\"padding-left: 1em; padding-right: 1em; text-align: center; vertical-align: top\">1</td>\n",
       "        <td style=\"padding-left: 1em; padding-right: 1em; text-align: center; vertical-align: top\">0</td>\n",
       "        <td style=\"padding-left: 1em; padding-right: 1em; text-align: center; vertical-align: top\">77819d3e0b3467fe5c7b16d68<br>ad923a1 ...</td>\n",
       "        <td style=\"padding-left: 1em; padding-right: 1em; text-align: center; vertical-align: top\">300</td>\n",
       "        <td style=\"padding-left: 1em; padding-right: 1em; text-align: center; vertical-align: top\">76</td>\n",
       "    </tr>\n",
       "    <tr>\n",
       "        <td style=\"padding-left: 1em; padding-right: 1em; text-align: center; vertical-align: top\">728</td>\n",
       "        <td style=\"padding-left: 1em; padding-right: 1em; text-align: center; vertical-align: top\">90</td>\n",
       "        <td style=\"padding-left: 1em; padding-right: 1em; text-align: center; vertical-align: top\">0</td>\n",
       "        <td style=\"padding-left: 1em; padding-right: 1em; text-align: center; vertical-align: top\">0</td>\n",
       "        <td style=\"padding-left: 1em; padding-right: 1em; text-align: center; vertical-align: top\">162</td>\n",
       "        <td style=\"padding-left: 1em; padding-right: 1em; text-align: center; vertical-align: top\">7184c9560e68e977187e67e45<br>a4f3198 ...</td>\n",
       "        <td style=\"padding-left: 1em; padding-right: 1em; text-align: center; vertical-align: top\">238</td>\n",
       "        <td style=\"padding-left: 1em; padding-right: 1em; text-align: center; vertical-align: top\">182</td>\n",
       "    </tr>\n",
       "    <tr>\n",
       "        <td style=\"padding-left: 1em; padding-right: 1em; text-align: center; vertical-align: top\">950</td>\n",
       "        <td style=\"padding-left: 1em; padding-right: 1em; text-align: center; vertical-align: top\">90</td>\n",
       "        <td style=\"padding-left: 1em; padding-right: 1em; text-align: center; vertical-align: top\">0</td>\n",
       "        <td style=\"padding-left: 1em; padding-right: 1em; text-align: center; vertical-align: top\">1</td>\n",
       "        <td style=\"padding-left: 1em; padding-right: 1em; text-align: center; vertical-align: top\">0</td>\n",
       "        <td style=\"padding-left: 1em; padding-right: 1em; text-align: center; vertical-align: top\">c938195f9e404b4f38c7e71bf<br>50263e5 ...</td>\n",
       "        <td style=\"padding-left: 1em; padding-right: 1em; text-align: center; vertical-align: top\">238</td>\n",
       "        <td style=\"padding-left: 1em; padding-right: 1em; text-align: center; vertical-align: top\">34</td>\n",
       "    </tr>\n",
       "    <tr>\n",
       "        <td style=\"padding-left: 1em; padding-right: 1em; text-align: center; vertical-align: top\">300</td>\n",
       "        <td style=\"padding-left: 1em; padding-right: 1em; text-align: center; vertical-align: top\">250</td>\n",
       "        <td style=\"padding-left: 1em; padding-right: 1em; text-align: center; vertical-align: top\">1</td>\n",
       "        <td style=\"padding-left: 1em; padding-right: 1em; text-align: center; vertical-align: top\">1</td>\n",
       "        <td style=\"padding-left: 1em; padding-right: 1em; text-align: center; vertical-align: top\">0</td>\n",
       "        <td style=\"padding-left: 1em; padding-right: 1em; text-align: center; vertical-align: top\">911b2d84826786018761e8c0b<br>0a3a60c ...</td>\n",
       "        <td style=\"padding-left: 1em; padding-right: 1em; text-align: center; vertical-align: top\">227</td>\n",
       "        <td style=\"padding-left: 1em; padding-right: 1em; text-align: center; vertical-align: top\">99</td>\n",
       "    </tr>\n",
       "    <tr>\n",
       "        <td style=\"padding-left: 1em; padding-right: 1em; text-align: center; vertical-align: top\">728</td>\n",
       "        <td style=\"padding-left: 1em; padding-right: 1em; text-align: center; vertical-align: top\">90</td>\n",
       "        <td style=\"padding-left: 1em; padding-right: 1em; text-align: center; vertical-align: top\">OtherView</td>\n",
       "        <td style=\"padding-left: 1em; padding-right: 1em; text-align: center; vertical-align: top\">Na</td>\n",
       "        <td style=\"padding-left: 1em; padding-right: 1em; text-align: center; vertical-align: top\">5</td>\n",
       "        <td style=\"padding-left: 1em; padding-right: 1em; text-align: center; vertical-align: top\">7330</td>\n",
       "        <td style=\"padding-left: 1em; padding-right: 1em; text-align: center; vertical-align: top\">277</td>\n",
       "        <td style=\"padding-left: 1em; padding-right: 1em; text-align: center; vertical-align: top\">61</td>\n",
       "    </tr>\n",
       "    <tr>\n",
       "        <td style=\"padding-left: 1em; padding-right: 1em; text-align: center; vertical-align: top\">960</td>\n",
       "        <td style=\"padding-left: 1em; padding-right: 1em; text-align: center; vertical-align: top\">90</td>\n",
       "        <td style=\"padding-left: 1em; padding-right: 1em; text-align: center; vertical-align: top\">FirstView</td>\n",
       "        <td style=\"padding-left: 1em; padding-right: 1em; text-align: center; vertical-align: top\">Na</td>\n",
       "        <td style=\"padding-left: 1em; padding-right: 1em; text-align: center; vertical-align: top\">0</td>\n",
       "        <td style=\"padding-left: 1em; padding-right: 1em; text-align: center; vertical-align: top\">10717</td>\n",
       "        <td style=\"padding-left: 1em; padding-right: 1em; text-align: center; vertical-align: top\">294</td>\n",
       "        <td style=\"padding-left: 1em; padding-right: 1em; text-align: center; vertical-align: top\">39</td>\n",
       "    </tr>\n",
       "    <tr>\n",
       "        <td style=\"padding-left: 1em; padding-right: 1em; text-align: center; vertical-align: top\">336</td>\n",
       "        <td style=\"padding-left: 1em; padding-right: 1em; text-align: center; vertical-align: top\">280</td>\n",
       "        <td style=\"padding-left: 1em; padding-right: 1em; text-align: center; vertical-align: top\">2</td>\n",
       "        <td style=\"padding-left: 1em; padding-right: 1em; text-align: center; vertical-align: top\">0</td>\n",
       "        <td style=\"padding-left: 1em; padding-right: 1em; text-align: center; vertical-align: top\">5</td>\n",
       "        <td style=\"padding-left: 1em; padding-right: 1em; text-align: center; vertical-align: top\">ff5123fb9333ca095034c62fd<br>aaf51aa ...</td>\n",
       "        <td style=\"padding-left: 1em; padding-right: 1em; text-align: center; vertical-align: top\">300</td>\n",
       "        <td style=\"padding-left: 1em; padding-right: 1em; text-align: center; vertical-align: top\">111</td>\n",
       "    </tr>\n",
       "    <tr>\n",
       "        <td style=\"padding-left: 1em; padding-right: 1em; text-align: center; vertical-align: top\">1000</td>\n",
       "        <td style=\"padding-left: 1em; padding-right: 1em; text-align: center; vertical-align: top\">90</td>\n",
       "        <td style=\"padding-left: 1em; padding-right: 1em; text-align: center; vertical-align: top\">0</td>\n",
       "        <td style=\"padding-left: 1em; padding-right: 1em; text-align: center; vertical-align: top\">0</td>\n",
       "        <td style=\"padding-left: 1em; padding-right: 1em; text-align: center; vertical-align: top\">31</td>\n",
       "        <td style=\"padding-left: 1em; padding-right: 1em; text-align: center; vertical-align: top\">832b91d59d0cb573143165320<br>4a76c0e ...</td>\n",
       "        <td style=\"padding-left: 1em; padding-right: 1em; text-align: center; vertical-align: top\">300</td>\n",
       "        <td style=\"padding-left: 1em; padding-right: 1em; text-align: center; vertical-align: top\">30</td>\n",
       "    </tr>\n",
       "</table>\n",
       "<table frame=\"box\" rules=\"cols\">\n",
       "    <tr>\n",
       "        <th style=\"padding-left: 1em; padding-right: 1em; text-align: center\">keypage</th>\n",
       "        <th style=\"padding-left: 1em; padding-right: 1em; text-align: center\">advertiser</th>\n",
       "        <th style=\"padding-left: 1em; padding-right: 1em; text-align: center\">usertag</th>\n",
       "    </tr>\n",
       "    <tr>\n",
       "        <td style=\"padding-left: 1em; padding-right: 1em; text-align: center; vertical-align: top\">bebefa5efe83beee17a3d245e<br>7c5085b ...</td>\n",
       "        <td style=\"padding-left: 1em; padding-right: 1em; text-align: center; vertical-align: top\">1458</td>\n",
       "        <td style=\"padding-left: 1em; padding-right: 1em; text-align: center; vertical-align: top\">13866,10063</td>\n",
       "    </tr>\n",
       "    <tr>\n",
       "        <td style=\"padding-left: 1em; padding-right: 1em; text-align: center; vertical-align: top\">15b749127478946f161a54dc0<br>dad27c8 ...</td>\n",
       "        <td style=\"padding-left: 1em; padding-right: 1em; text-align: center; vertical-align: top\">3476</td>\n",
       "        <td style=\"padding-left: 1em; padding-right: 1em; text-align: center; vertical-align: top\">10063,10111</td>\n",
       "    </tr>\n",
       "    <tr>\n",
       "        <td style=\"padding-left: 1em; padding-right: 1em; text-align: center; vertical-align: top\">bebefa5efe83beee17a3d245e<br>7c5085b ...</td>\n",
       "        <td style=\"padding-left: 1em; padding-right: 1em; text-align: center; vertical-align: top\">1458</td>\n",
       "        <td style=\"padding-left: 1em; padding-right: 1em; text-align: center; vertical-align: top\">10063</td>\n",
       "    </tr>\n",
       "    <tr>\n",
       "        <td style=\"padding-left: 1em; padding-right: 1em; text-align: center; vertical-align: top\">0f951a030abdaedd733ee8d11<br>4ce2944 ...</td>\n",
       "        <td style=\"padding-left: 1em; padding-right: 1em; text-align: center; vertical-align: top\">3427</td>\n",
       "        <td style=\"padding-left: 1em; padding-right: 1em; text-align: center; vertical-align: top\">10077,10111</td>\n",
       "    </tr>\n",
       "    <tr>\n",
       "        <td style=\"padding-left: 1em; padding-right: 1em; text-align: center; vertical-align: top\">a3becb967c015e9acb5e72f22<br>b100ef8 ...</td>\n",
       "        <td style=\"padding-left: 1em; padding-right: 1em; text-align: center; vertical-align: top\">3476</td>\n",
       "        <td style=\"padding-left: 1em; padding-right: 1em; text-align: center; vertical-align: top\">10031,13042,10006,10057,1<br>3866,10063,14273,1005 ...</td>\n",
       "    </tr>\n",
       "    <tr>\n",
       "        <td style=\"padding-left: 1em; padding-right: 1em; text-align: center; vertical-align: top\">d29e59bf0f7f8243858b8183f<br>14d4412 ...</td>\n",
       "        <td style=\"padding-left: 1em; padding-right: 1em; text-align: center; vertical-align: top\">3358</td>\n",
       "        <td style=\"padding-left: 1em; padding-right: 1em; text-align: center; vertical-align: top\">10063</td>\n",
       "    </tr>\n",
       "    <tr>\n",
       "        <td style=\"padding-left: 1em; padding-right: 1em; text-align: center; vertical-align: top\">null</td>\n",
       "        <td style=\"padding-left: 1em; padding-right: 1em; text-align: center; vertical-align: top\">2259</td>\n",
       "        <td style=\"padding-left: 1em; padding-right: 1em; text-align: center; vertical-align: top\">13866,10006,10111,10063</td>\n",
       "    </tr>\n",
       "    <tr>\n",
       "        <td style=\"padding-left: 1em; padding-right: 1em; text-align: center; vertical-align: top\">null</td>\n",
       "        <td style=\"padding-left: 1em; padding-right: 1em; text-align: center; vertical-align: top\">2821</td>\n",
       "        <td style=\"padding-left: 1em; padding-right: 1em; text-align: center; vertical-align: top\">13042,10024,10006,10110,1<br>0031,10063 ...</td>\n",
       "    </tr>\n",
       "    <tr>\n",
       "        <td style=\"padding-left: 1em; padding-right: 1em; text-align: center; vertical-align: top\">361e128affece850342293213<br>691a043 ...</td>\n",
       "        <td style=\"padding-left: 1em; padding-right: 1em; text-align: center; vertical-align: top\">3386</td>\n",
       "        <td style=\"padding-left: 1em; padding-right: 1em; text-align: center; vertical-align: top\">null</td>\n",
       "    </tr>\n",
       "    <tr>\n",
       "        <td style=\"padding-left: 1em; padding-right: 1em; text-align: center; vertical-align: top\">bebefa5efe83beee17a3d245e<br>7c5085b ...</td>\n",
       "        <td style=\"padding-left: 1em; padding-right: 1em; text-align: center; vertical-align: top\">1458</td>\n",
       "        <td style=\"padding-left: 1em; padding-right: 1em; text-align: center; vertical-align: top\">13403,10057,10063,10083,1<br>0006,10110 ...</td>\n",
       "    </tr>\n",
       "</table>\n",
       "[2697738 rows x 26 columns]<br/>Note: Only the head of the SFrame is printed.<br/>You can use print_rows(num_rows=m, num_columns=n) to print more rows and columns.\n",
       "</div>"
      ],
      "text/plain": [
       "Columns:\n",
       "\tclick\tint\n",
       "\tweekday\tint\n",
       "\thour\tint\n",
       "\tbidid\tstr\n",
       "\tlogtype\tint\n",
       "\tuserid\tstr\n",
       "\tuseragent\tstr\n",
       "\tIP\tstr\n",
       "\tregion\tint\n",
       "\tcity\tint\n",
       "\tadexchange\tstr\n",
       "\tdomain\tstr\n",
       "\turl\tstr\n",
       "\turlid\tstr\n",
       "\tslotid\tstr\n",
       "\tslotwidth\tint\n",
       "\tslotheight\tint\n",
       "\tslotvisibility\tstr\n",
       "\tslotformat\tstr\n",
       "\tslotprice\tint\n",
       "\tcreative\tstr\n",
       "\tbidprice\tint\n",
       "\tpayprice\tint\n",
       "\tkeypage\tstr\n",
       "\tadvertiser\tint\n",
       "\tusertag\tstr\n",
       "\n",
       "Rows: 2697738\n",
       "\n",
       "Data:\n",
       "+-------+---------+------+-------------------------------+---------+\n",
       "| click | weekday | hour |             bidid             | logtype |\n",
       "+-------+---------+------+-------------------------------+---------+\n",
       "|   0   |    1    |  14  | fdfae6789b787899f1b875de3a... |    1    |\n",
       "|   0   |    2    |  20  | 372883147cdefbc495fb5082f7... |    1    |\n",
       "|   0   |    5    |  9   | 2912cb5947e1fad450e2473c2f... |    1    |\n",
       "|   0   |    2    |  20  | d7b7d61d1e50e1d27d210928d2... |    1    |\n",
       "|   0   |    6    |  9   | 657d317dc4045bb79c2652abbe... |    1    |\n",
       "|   0   |    3    |  22  | 97948108bc353d0f3ef1e0142a... |    1    |\n",
       "|   0   |    5    |  16  | 26739c29a9294f157930f3f5bb... |    1    |\n",
       "|   0   |    0    |  21  | 404f5a6f3a1dde4ae1811646c0... |    1    |\n",
       "|   0   |    4    |  17  | 39095668ca6fd532b7c6d3dfad... |    1    |\n",
       "|   0   |    0    |  17  | dd3e2fd0370f672e6cbc559767... |    1    |\n",
       "+-------+---------+------+-------------------------------+---------+\n",
       "+-------------------+----------------+---------------+--------+------+------------+\n",
       "|       userid      |   useragent    |       IP      | region | city | adexchange |\n",
       "+-------------------+----------------+---------------+--------+------+------------+\n",
       "| u_Vh1OPkFv3q5CFdR |   windows_ie   | 180.107.112.* |   80   |  85  |     2      |\n",
       "| u_VhkRL6dCOTLsq-c | windows_chrome | 125.120.199.* |   94   |  95  |     2      |\n",
       "| u_VhkyORMrD8TP3GL |   windows_ie   |  120.196.64.* |  216   | 217  |     1      |\n",
       "| u_VhkyLRqVL2a4eWL |   windows_ie   | 219.131.122.* |  216   | 221  |     2      |\n",
       "| u_Vh1zOJuQOtTCBgL | windows_chrome |  123.190.78.* |   40   |  48  |     1      |\n",
       "| u_Vh5h1p2SDvFsGMa |   windows_ie   | 111.227.172.* |   3    |  6   |     1      |\n",
       "|   u_D89EGm6FGGV   | windows_chrome |  27.46.201.*  |  216   | 217  |     2      |\n",
       "|   u_D9MLsHCazAr   | windows_chrome |  112.92.88.*  |  216   | 220  |     4      |\n",
       "| u_Vh5_LAT0322yFOl |   windows_ie   |  218.77.12.*  |  201   | 213  |     2      |\n",
       "| u_VhTnL7d7PtB8XWC |   windows_ie   | 122.137.146.* |   55   |  57  |     3      |\n",
       "+-------------------+----------------+---------------+--------+------+------------+\n",
       "+-------------------------------+-------------------------------+-------+\n",
       "|             domain            |              url              | urlid |\n",
       "+-------------------------------+-------------------------------+-------+\n",
       "|      trqRTuToMTNUjM9r5rMi     | d48a96ab59d7ad741a48e781de... |  null |\n",
       "|       trqRTv14MqTR1m58uG      | 313e110c149d24b3236165d308... |  null |\n",
       "|         trqRTJTxX5scg4        | 845b72208c27b993daa11c8104... |  null |\n",
       "|      trqRTuMvjTN7X9KbuKz      | ea6709db2703ae8698755629f1... |  null |\n",
       "|        trqRTu1YP5scFsf        | b7b8e74eefbdd5cc1a9f0acb2e... |  null |\n",
       "|        trqRTJubX5scFsf        | 37bdc8299d3b42e6f04ccf4fca... |  null |\n",
       "| 333a4ab5e4ae8e17d7ca862377... | 4bf89e8bc0f9e55e8305087441... |  null |\n",
       "| 1164f4caea2d39bc9dcc8dd22b... | 37a58da844768798ec368daff8... |  null |\n",
       "|      trqRTv1EXQuYgMKE5SqW     | da7852090bb61af96fbcd29898... |  null |\n",
       "|        5F1RQS9rg5scFsf        | 19422c57c90579925952ed859e... |  null |\n",
       "+-------------------------------+-------------------------------+-------+\n",
       "+------------------------------+-----------+------------+----------------+------------+\n",
       "|            slotid            | slotwidth | slotheight | slotvisibility | slotformat |\n",
       "+------------------------------+-----------+------------+----------------+------------+\n",
       "|          433287550           |    468    |     60     |       1        |     0      |\n",
       "|          2264242698          |    250    |    250     |       1        |     0      |\n",
       "| mm_40135906_3486753_11388735 |    336    |    280     |       0        |     1      |\n",
       "|          2536830969          |    728    |     90     |       0        |     0      |\n",
       "| mm_10075660_3500949_11453278 |    950    |     90     |       0        |     1      |\n",
       "| mm_14539978_2071324_8355258  |    300    |    250     |       1        |     1      |\n",
       "|          2932492844          |    728    |     90     |   OtherView    |     Na     |\n",
       "|     9223372032560960619      |    960    |     90     |   FirstView    |     Na     |\n",
       "|          3151450371          |    336    |    280     |       2        |     0      |\n",
       "|     News_F_bottom_Width      |    1000   |     90     |       0        |     0      |\n",
       "+------------------------------+-----------+------------+----------------+------------+\n",
       "+-----------+-----+\n",
       "| slotprice | ... |\n",
       "+-----------+-----+\n",
       "|     5     | ... |\n",
       "|     5     | ... |\n",
       "|     0     | ... |\n",
       "|    162    | ... |\n",
       "|     0     | ... |\n",
       "|     0     | ... |\n",
       "|     5     | ... |\n",
       "|     0     | ... |\n",
       "|     5     | ... |\n",
       "|     31    | ... |\n",
       "+-----------+-----+\n",
       "[2697738 rows x 26 columns]\n",
       "Note: Only the head of the SFrame is printed.\n",
       "You can use print_rows(num_rows=m, num_columns=n) to print more rows and columns."
      ]
     },
     "execution_count": 16,
     "metadata": {},
     "output_type": "execute_result"
    }
   ],
   "source": [
    "df_train"
   ]
  },
  {
   "cell_type": "code",
   "execution_count": 23,
   "metadata": {},
   "outputs": [
    {
     "name": "stdout",
     "output_type": "stream",
     "text": [
      "PROGRESS: Creating a validation set from 5 percent of training data. This may take a while.\n",
      "          You can set ``validation_set=None`` to disable validation tracking.\n",
      "\n"
     ]
    },
    {
     "data": {
      "text/html": [
       "<pre>Random forest classifier:</pre>"
      ],
      "text/plain": [
       "Random forest classifier:"
      ]
     },
     "metadata": {},
     "output_type": "display_data"
    },
    {
     "data": {
      "text/html": [
       "<pre>--------------------------------------------------------</pre>"
      ],
      "text/plain": [
       "--------------------------------------------------------"
      ]
     },
     "metadata": {},
     "output_type": "display_data"
    },
    {
     "data": {
      "text/html": [
       "<pre>Number of examples          : 2562944</pre>"
      ],
      "text/plain": [
       "Number of examples          : 2562944"
      ]
     },
     "metadata": {},
     "output_type": "display_data"
    },
    {
     "data": {
      "text/html": [
       "<pre>Number of classes           : 2</pre>"
      ],
      "text/plain": [
       "Number of classes           : 2"
      ]
     },
     "metadata": {},
     "output_type": "display_data"
    },
    {
     "data": {
      "text/html": [
       "<pre>Number of feature columns   : 6</pre>"
      ],
      "text/plain": [
       "Number of feature columns   : 6"
      ]
     },
     "metadata": {},
     "output_type": "display_data"
    },
    {
     "data": {
      "text/html": [
       "<pre>Number of unpacked features : 6</pre>"
      ],
      "text/plain": [
       "Number of unpacked features : 6"
      ]
     },
     "metadata": {},
     "output_type": "display_data"
    },
    {
     "data": {
      "text/html": [
       "<pre>+-----------+--------------+-------------------+---------------------+-------------------+---------------------+</pre>"
      ],
      "text/plain": [
       "+-----------+--------------+-------------------+---------------------+-------------------+---------------------+"
      ]
     },
     "metadata": {},
     "output_type": "display_data"
    },
    {
     "data": {
      "text/html": [
       "<pre>| Iteration | Elapsed Time | Training-accuracy | Validation-accuracy | Training-log_loss | Validation-log_loss |</pre>"
      ],
      "text/plain": [
       "| Iteration | Elapsed Time | Training-accuracy | Validation-accuracy | Training-log_loss | Validation-log_loss |"
      ]
     },
     "metadata": {},
     "output_type": "display_data"
    },
    {
     "data": {
      "text/html": [
       "<pre>+-----------+--------------+-------------------+---------------------+-------------------+---------------------+</pre>"
      ],
      "text/plain": [
       "+-----------+--------------+-------------------+---------------------+-------------------+---------------------+"
      ]
     },
     "metadata": {},
     "output_type": "display_data"
    },
    {
     "data": {
      "text/html": [
       "<pre>| 1         | 1.074039     | 0.999245          | 0.999266            | 0.128794          | 0.128753            |</pre>"
      ],
      "text/plain": [
       "| 1         | 1.074039     | 0.999245          | 0.999266            | 0.128794          | 0.128753            |"
      ]
     },
     "metadata": {},
     "output_type": "display_data"
    },
    {
     "data": {
      "text/html": [
       "<pre>| 2         | 2.108165     | 0.999245          | 0.999266            | 0.128796          | 0.128755            |</pre>"
      ],
      "text/plain": [
       "| 2         | 2.108165     | 0.999245          | 0.999266            | 0.128796          | 0.128755            |"
      ]
     },
     "metadata": {},
     "output_type": "display_data"
    },
    {
     "data": {
      "text/html": [
       "<pre>| 3         | 3.124172     | 0.999245          | 0.999266            | 0.128796          | 0.128755            |</pre>"
      ],
      "text/plain": [
       "| 3         | 3.124172     | 0.999245          | 0.999266            | 0.128796          | 0.128755            |"
      ]
     },
     "metadata": {},
     "output_type": "display_data"
    },
    {
     "data": {
      "text/html": [
       "<pre>| 4         | 4.088728     | 0.999245          | 0.999266            | 0.128796          | 0.128755            |</pre>"
      ],
      "text/plain": [
       "| 4         | 4.088728     | 0.999245          | 0.999266            | 0.128796          | 0.128755            |"
      ]
     },
     "metadata": {},
     "output_type": "display_data"
    },
    {
     "data": {
      "text/html": [
       "<pre>| 5         | 5.042033     | 0.999245          | 0.999266            | 0.128796          | 0.128755            |</pre>"
      ],
      "text/plain": [
       "| 5         | 5.042033     | 0.999245          | 0.999266            | 0.128796          | 0.128755            |"
      ]
     },
     "metadata": {},
     "output_type": "display_data"
    },
    {
     "data": {
      "text/html": [
       "<pre>| 6         | 5.931707     | 0.999245          | 0.999266            | 0.128797          | 0.128756            |</pre>"
      ],
      "text/plain": [
       "| 6         | 5.931707     | 0.999245          | 0.999266            | 0.128797          | 0.128756            |"
      ]
     },
     "metadata": {},
     "output_type": "display_data"
    },
    {
     "data": {
      "text/html": [
       "<pre>| 10        | 9.652519     | 0.999245          | 0.999266            | 0.128797          | 0.128756            |</pre>"
      ],
      "text/plain": [
       "| 10        | 9.652519     | 0.999245          | 0.999266            | 0.128797          | 0.128756            |"
      ]
     },
     "metadata": {},
     "output_type": "display_data"
    },
    {
     "data": {
      "text/html": [
       "<pre>| 11        | 10.589225    | 0.999245          | 0.999266            | 0.128797          | 0.128756            |</pre>"
      ],
      "text/plain": [
       "| 11        | 10.589225    | 0.999245          | 0.999266            | 0.128797          | 0.128756            |"
      ]
     },
     "metadata": {},
     "output_type": "display_data"
    },
    {
     "data": {
      "text/html": [
       "<pre>| 15        | 14.282638    | 0.999245          | 0.999266            | 0.128797          | 0.128756            |</pre>"
      ],
      "text/plain": [
       "| 15        | 14.282638    | 0.999245          | 0.999266            | 0.128797          | 0.128756            |"
      ]
     },
     "metadata": {},
     "output_type": "display_data"
    },
    {
     "data": {
      "text/html": [
       "<pre>| 20        | 19.216955    | 0.999245          | 0.999266            | 0.128798          | 0.128757            |</pre>"
      ],
      "text/plain": [
       "| 20        | 19.216955    | 0.999245          | 0.999266            | 0.128798          | 0.128757            |"
      ]
     },
     "metadata": {},
     "output_type": "display_data"
    },
    {
     "data": {
      "text/html": [
       "<pre>| 25        | 24.187061    | 0.999245          | 0.999266            | 0.128797          | 0.128756            |</pre>"
      ],
      "text/plain": [
       "| 25        | 24.187061    | 0.999245          | 0.999266            | 0.128797          | 0.128756            |"
      ]
     },
     "metadata": {},
     "output_type": "display_data"
    },
    {
     "data": {
      "text/html": [
       "<pre>| 30        | 29.222621    | 0.999245          | 0.999266            | 0.128798          | 0.128757            |</pre>"
      ],
      "text/plain": [
       "| 30        | 29.222621    | 0.999245          | 0.999266            | 0.128798          | 0.128757            |"
      ]
     },
     "metadata": {},
     "output_type": "display_data"
    },
    {
     "data": {
      "text/html": [
       "<pre>| 35        | 34.273560    | 0.999245          | 0.999266            | 0.128798          | 0.128757            |</pre>"
      ],
      "text/plain": [
       "| 35        | 34.273560    | 0.999245          | 0.999266            | 0.128798          | 0.128757            |"
      ]
     },
     "metadata": {},
     "output_type": "display_data"
    },
    {
     "data": {
      "text/html": [
       "<pre>| 40        | 39.239675    | 0.999245          | 0.999266            | 0.128798          | 0.128757            |</pre>"
      ],
      "text/plain": [
       "| 40        | 39.239675    | 0.999245          | 0.999266            | 0.128798          | 0.128757            |"
      ]
     },
     "metadata": {},
     "output_type": "display_data"
    },
    {
     "data": {
      "text/html": [
       "<pre>| 45        | 43.970497    | 0.999245          | 0.999266            | 0.128798          | 0.128757            |</pre>"
      ],
      "text/plain": [
       "| 45        | 43.970497    | 0.999245          | 0.999266            | 0.128798          | 0.128757            |"
      ]
     },
     "metadata": {},
     "output_type": "display_data"
    },
    {
     "data": {
      "text/html": [
       "<pre>| 50        | 48.742236    | 0.999245          | 0.999266            | 0.128798          | 0.128757            |</pre>"
      ],
      "text/plain": [
       "| 50        | 48.742236    | 0.999245          | 0.999266            | 0.128798          | 0.128757            |"
      ]
     },
     "metadata": {},
     "output_type": "display_data"
    },
    {
     "data": {
      "text/html": [
       "<pre>+-----------+--------------+-------------------+---------------------+-------------------+---------------------+</pre>"
      ],
      "text/plain": [
       "+-----------+--------------+-------------------+---------------------+-------------------+---------------------+"
      ]
     },
     "metadata": {},
     "output_type": "display_data"
    }
   ],
   "source": [
    "model = gl.random_forest_classifier.create(df_train, target='click', features=['weekday','city','region','hour','slotvisibility','slotformat'], max_iterations=50)"
   ]
  },
  {
   "cell_type": "code",
   "execution_count": 24,
   "metadata": {},
   "outputs": [],
   "source": [
    "predictions = model.predict(df_val)\n",
    "results = model.evaluate(df_val)"
   ]
  },
  {
   "cell_type": "code",
   "execution_count": 25,
   "metadata": {},
   "outputs": [
    {
     "data": {
      "text/plain": [
       "{'accuracy': 0.9992460358499945, 'auc': 0.5, 'confusion_matrix': Columns:\n",
       " \ttarget_label\tint\n",
       " \tpredicted_label\tint\n",
       " \tcount\tint\n",
       " \n",
       " Rows: 2\n",
       " \n",
       " Data:\n",
       " +--------------+-----------------+--------+\n",
       " | target_label | predicted_label | count  |\n",
       " +--------------+-----------------+--------+\n",
       " |      1       |        0        |  226   |\n",
       " |      0       |        0        | 299523 |\n",
       " +--------------+-----------------+--------+\n",
       " [2 rows x 3 columns], 'f1_score': 0.0, 'log_loss': 0.12879553714179706, 'precision': None, 'recall': 0.0, 'roc_curve': Columns:\n",
       " \tthreshold\tfloat\n",
       " \tfpr\tfloat\n",
       " \ttpr\tfloat\n",
       " \tp\tint\n",
       " \tn\tint\n",
       " \n",
       " Rows: 100001\n",
       " \n",
       " Data:\n",
       " +-----------+-----+-----+-----+--------+\n",
       " | threshold | fpr | tpr |  p  |   n    |\n",
       " +-----------+-----+-----+-----+--------+\n",
       " |    0.0    | 1.0 | 1.0 | 226 | 299523 |\n",
       " |   1e-05   | 1.0 | 1.0 | 226 | 299523 |\n",
       " |   2e-05   | 1.0 | 1.0 | 226 | 299523 |\n",
       " |   3e-05   | 1.0 | 1.0 | 226 | 299523 |\n",
       " |   4e-05   | 1.0 | 1.0 | 226 | 299523 |\n",
       " |   5e-05   | 1.0 | 1.0 | 226 | 299523 |\n",
       " |   6e-05   | 1.0 | 1.0 | 226 | 299523 |\n",
       " |   7e-05   | 1.0 | 1.0 | 226 | 299523 |\n",
       " |   8e-05   | 1.0 | 1.0 | 226 | 299523 |\n",
       " |   9e-05   | 1.0 | 1.0 | 226 | 299523 |\n",
       " +-----------+-----+-----+-----+--------+\n",
       " [100001 rows x 5 columns]\n",
       " Note: Only the head of the SFrame is printed.\n",
       " You can use print_rows(num_rows=m, num_columns=n) to print more rows and columns.}"
      ]
     },
     "execution_count": 25,
     "metadata": {},
     "output_type": "execute_result"
    }
   ],
   "source": [
    "results"
   ]
  },
  {
   "cell_type": "code",
   "execution_count": null,
   "metadata": {
    "collapsed": true
   },
   "outputs": [],
   "source": []
  }
 ],
 "metadata": {
  "kernelspec": {
   "display_name": "Python 2",
   "language": "python",
   "name": "python2"
  },
  "language_info": {
   "codemirror_mode": {
    "name": "ipython",
    "version": 2
   },
   "file_extension": ".py",
   "mimetype": "text/x-python",
   "name": "python",
   "nbconvert_exporter": "python",
   "pygments_lexer": "ipython2",
   "version": "2.7.13"
  }
 },
 "nbformat": 4,
 "nbformat_minor": 2
}
