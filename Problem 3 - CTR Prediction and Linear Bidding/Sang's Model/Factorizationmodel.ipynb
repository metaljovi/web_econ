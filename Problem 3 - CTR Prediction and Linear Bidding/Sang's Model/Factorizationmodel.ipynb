{
 "cells": [
  {
   "cell_type": "code",
   "execution_count": 1,
   "metadata": {
    "collapsed": true
   },
   "outputs": [],
   "source": [
    "%matplotlib inline\n",
    "\n",
    "import pandas as pd\n",
    "import matplotlib.pyplot as plt\n",
    "import numpy as np\n",
    "import graphlab as gl"
   ]
  },
  {
   "cell_type": "code",
   "execution_count": 2,
   "metadata": {},
   "outputs": [
    {
     "name": "stderr",
     "output_type": "stream",
     "text": [
      "[INFO] graphlab.cython.cy_server: GraphLab Create v2.1 started. Logging: /tmp/graphlab_server_1492081330.log\n"
     ]
    },
    {
     "name": "stdout",
     "output_type": "stream",
     "text": [
      "This non-commercial license of GraphLab Create for academic use is assigned to sang.song.16@ucl.ac.uk and will expire on April 05, 2018.\n"
     ]
    },
    {
     "data": {
      "text/html": [
       "<pre>Finished parsing file /Users/ssong/Downloads/WebEcon/train.csv</pre>"
      ],
      "text/plain": [
       "Finished parsing file /Users/ssong/Downloads/WebEcon/train.csv"
      ]
     },
     "metadata": {},
     "output_type": "display_data"
    },
    {
     "data": {
      "text/html": [
       "<pre>Parsing completed. Parsed 100 lines in 0.820747 secs.</pre>"
      ],
      "text/plain": [
       "Parsing completed. Parsed 100 lines in 0.820747 secs."
      ]
     },
     "metadata": {},
     "output_type": "display_data"
    },
    {
     "name": "stdout",
     "output_type": "stream",
     "text": [
      "------------------------------------------------------\n",
      "Inferred types from first 100 line(s) of file as \n",
      "column_type_hints=[int,int,int,str,int,str,str,str,int,int,str,str,str,str,str,int,int,str,str,int,str,int,int,str,int,str]\n",
      "If parsing fails due to incorrect types, you can correct\n",
      "the inferred type list above and pass it to read_csv in\n",
      "the column_type_hints argument\n",
      "------------------------------------------------------\n"
     ]
    },
    {
     "data": {
      "text/html": [
       "<pre>Read 186256 lines. Lines per second: 141899</pre>"
      ],
      "text/plain": [
       "Read 186256 lines. Lines per second: 141899"
      ]
     },
     "metadata": {},
     "output_type": "display_data"
    },
    {
     "data": {
      "text/html": [
       "<pre>Read 1303583 lines. Lines per second: 195808</pre>"
      ],
      "text/plain": [
       "Read 1303583 lines. Lines per second: 195808"
      ]
     },
     "metadata": {},
     "output_type": "display_data"
    },
    {
     "data": {
      "text/html": [
       "<pre>Read 2420901 lines. Lines per second: 198479</pre>"
      ],
      "text/plain": [
       "Read 2420901 lines. Lines per second: 198479"
      ]
     },
     "metadata": {},
     "output_type": "display_data"
    },
    {
     "data": {
      "text/html": [
       "<pre>Finished parsing file /Users/ssong/Downloads/WebEcon/train.csv</pre>"
      ],
      "text/plain": [
       "Finished parsing file /Users/ssong/Downloads/WebEcon/train.csv"
      ]
     },
     "metadata": {},
     "output_type": "display_data"
    },
    {
     "data": {
      "text/html": [
       "<pre>Parsing completed. Parsed 2697738 lines in 13.5172 secs.</pre>"
      ],
      "text/plain": [
       "Parsing completed. Parsed 2697738 lines in 13.5172 secs."
      ]
     },
     "metadata": {},
     "output_type": "display_data"
    },
    {
     "data": {
      "text/html": [
       "<pre>Finished parsing file /Users/ssong/Downloads/WebEcon/test.csv</pre>"
      ],
      "text/plain": [
       "Finished parsing file /Users/ssong/Downloads/WebEcon/test.csv"
      ]
     },
     "metadata": {},
     "output_type": "display_data"
    },
    {
     "data": {
      "text/html": [
       "<pre>Parsing completed. Parsed 100 lines in 0.837311 secs.</pre>"
      ],
      "text/plain": [
       "Parsing completed. Parsed 100 lines in 0.837311 secs."
      ]
     },
     "metadata": {},
     "output_type": "display_data"
    },
    {
     "name": "stdout",
     "output_type": "stream",
     "text": [
      "------------------------------------------------------\n",
      "Inferred types from first 100 line(s) of file as \n",
      "column_type_hints=[int,int,str,int,str,str,str,int,int,str,str,str,str,str,int,int,str,str,int,str,str,int,str]\n",
      "If parsing fails due to incorrect types, you can correct\n",
      "the inferred type list above and pass it to read_csv in\n",
      "the column_type_hints argument\n",
      "------------------------------------------------------\n"
     ]
    },
    {
     "data": {
      "text/html": [
       "<pre>Read 192551 lines. Lines per second: 149608</pre>"
      ],
      "text/plain": [
       "Read 192551 lines. Lines per second: 149608"
      ]
     },
     "metadata": {},
     "output_type": "display_data"
    },
    {
     "data": {
      "text/html": [
       "<pre>Finished parsing file /Users/ssong/Downloads/WebEcon/test.csv</pre>"
      ],
      "text/plain": [
       "Finished parsing file /Users/ssong/Downloads/WebEcon/test.csv"
      ]
     },
     "metadata": {},
     "output_type": "display_data"
    },
    {
     "data": {
      "text/html": [
       "<pre>Parsing completed. Parsed 299749 lines in 1.73028 secs.</pre>"
      ],
      "text/plain": [
       "Parsing completed. Parsed 299749 lines in 1.73028 secs."
      ]
     },
     "metadata": {},
     "output_type": "display_data"
    },
    {
     "data": {
      "text/html": [
       "<pre>Finished parsing file /Users/ssong/Downloads/WebEcon/validation.csv</pre>"
      ],
      "text/plain": [
       "Finished parsing file /Users/ssong/Downloads/WebEcon/validation.csv"
      ]
     },
     "metadata": {},
     "output_type": "display_data"
    },
    {
     "data": {
      "text/html": [
       "<pre>Parsing completed. Parsed 100 lines in 0.85776 secs.</pre>"
      ],
      "text/plain": [
       "Parsing completed. Parsed 100 lines in 0.85776 secs."
      ]
     },
     "metadata": {},
     "output_type": "display_data"
    },
    {
     "name": "stdout",
     "output_type": "stream",
     "text": [
      "------------------------------------------------------\n",
      "Inferred types from first 100 line(s) of file as \n",
      "column_type_hints=[int,int,int,str,int,str,str,str,int,int,str,str,str,str,str,int,int,str,str,int,str,int,int,str,int,str]\n",
      "If parsing fails due to incorrect types, you can correct\n",
      "the inferred type list above and pass it to read_csv in\n",
      "the column_type_hints argument\n",
      "------------------------------------------------------\n"
     ]
    },
    {
     "data": {
      "text/html": [
       "<pre>Finished parsing file /Users/ssong/Downloads/WebEcon/validation.csv</pre>"
      ],
      "text/plain": [
       "Finished parsing file /Users/ssong/Downloads/WebEcon/validation.csv"
      ]
     },
     "metadata": {},
     "output_type": "display_data"
    },
    {
     "data": {
      "text/html": [
       "<pre>Parsing completed. Parsed 299749 lines in 1.80737 secs.</pre>"
      ],
      "text/plain": [
       "Parsing completed. Parsed 299749 lines in 1.80737 secs."
      ]
     },
     "metadata": {},
     "output_type": "display_data"
    },
    {
     "data": {
      "text/html": [
       "<pre>Finished parsing file /Users/ssong/Downloads/WebEcon/pCTRval.csv</pre>"
      ],
      "text/plain": [
       "Finished parsing file /Users/ssong/Downloads/WebEcon/pCTRval.csv"
      ]
     },
     "metadata": {},
     "output_type": "display_data"
    },
    {
     "data": {
      "text/html": [
       "<pre>Parsing completed. Parsed 100 lines in 0.102577 secs.</pre>"
      ],
      "text/plain": [
       "Parsing completed. Parsed 100 lines in 0.102577 secs."
      ]
     },
     "metadata": {},
     "output_type": "display_data"
    },
    {
     "name": "stdout",
     "output_type": "stream",
     "text": [
      "------------------------------------------------------\n",
      "Inferred types from first 100 line(s) of file as \n",
      "column_type_hints=[int,float]\n",
      "If parsing fails due to incorrect types, you can correct\n",
      "the inferred type list above and pass it to read_csv in\n",
      "the column_type_hints argument\n",
      "------------------------------------------------------\n"
     ]
    },
    {
     "data": {
      "text/html": [
       "<pre>Finished parsing file /Users/ssong/Downloads/WebEcon/pCTRval.csv</pre>"
      ],
      "text/plain": [
       "Finished parsing file /Users/ssong/Downloads/WebEcon/pCTRval.csv"
      ]
     },
     "metadata": {},
     "output_type": "display_data"
    },
    {
     "data": {
      "text/html": [
       "<pre>Parsing completed. Parsed 299749 lines in 0.134235 secs.</pre>"
      ],
      "text/plain": [
       "Parsing completed. Parsed 299749 lines in 0.134235 secs."
      ]
     },
     "metadata": {},
     "output_type": "display_data"
    },
    {
     "data": {
      "text/html": [
       "<pre>Finished parsing file /Users/ssong/Downloads/WebEcon/pCTRtest.csv</pre>"
      ],
      "text/plain": [
       "Finished parsing file /Users/ssong/Downloads/WebEcon/pCTRtest.csv"
      ]
     },
     "metadata": {},
     "output_type": "display_data"
    },
    {
     "data": {
      "text/html": [
       "<pre>Parsing completed. Parsed 100 lines in 0.115665 secs.</pre>"
      ],
      "text/plain": [
       "Parsing completed. Parsed 100 lines in 0.115665 secs."
      ]
     },
     "metadata": {},
     "output_type": "display_data"
    },
    {
     "name": "stdout",
     "output_type": "stream",
     "text": [
      "------------------------------------------------------\n",
      "Inferred types from first 100 line(s) of file as \n",
      "column_type_hints=[int,float]\n",
      "If parsing fails due to incorrect types, you can correct\n",
      "the inferred type list above and pass it to read_csv in\n",
      "the column_type_hints argument\n",
      "------------------------------------------------------\n"
     ]
    },
    {
     "data": {
      "text/html": [
       "<pre>Finished parsing file /Users/ssong/Downloads/WebEcon/pCTRtest.csv</pre>"
      ],
      "text/plain": [
       "Finished parsing file /Users/ssong/Downloads/WebEcon/pCTRtest.csv"
      ]
     },
     "metadata": {},
     "output_type": "display_data"
    },
    {
     "data": {
      "text/html": [
       "<pre>Parsing completed. Parsed 299749 lines in 0.137422 secs.</pre>"
      ],
      "text/plain": [
       "Parsing completed. Parsed 299749 lines in 0.137422 secs."
      ]
     },
     "metadata": {},
     "output_type": "display_data"
    }
   ],
   "source": [
    "we_train = gl.SFrame('/Users/ssong/Downloads/WebEcon/train.csv')\n",
    "we_test = gl.SFrame('/Users/ssong/Downloads/WebEcon/test.csv')\n",
    "we_val = gl.SFrame('/Users/ssong/Downloads/WebEcon/validation.csv')\n",
    "pCTRval = gl.SFrame('/Users/ssong/Downloads/WebEcon/pCTRval.csv')\n",
    "pCTRtest = gl.SFrame('/Users/ssong/Downloads/WebEcon/pCTRtest.csv')"
   ]
  },
  {
   "cell_type": "code",
   "execution_count": 3,
   "metadata": {},
   "outputs": [
    {
     "data": {
      "text/html": [
       "<pre>Recsys training: model = factorization_recommender</pre>"
      ],
      "text/plain": [
       "Recsys training: model = factorization_recommender"
      ]
     },
     "metadata": {},
     "output_type": "display_data"
    },
    {
     "data": {
      "text/html": [
       "<pre>Preparing data set.</pre>"
      ],
      "text/plain": [
       "Preparing data set."
      ]
     },
     "metadata": {},
     "output_type": "display_data"
    },
    {
     "data": {
      "text/html": [
       "<pre>    Data has 2697738 observations with 2591064 users and 2697738 items.</pre>"
      ],
      "text/plain": [
       "    Data has 2697738 observations with 2591064 users and 2697738 items."
      ]
     },
     "metadata": {},
     "output_type": "display_data"
    },
    {
     "data": {
      "text/html": [
       "<pre>    Data prepared in: 14.6014s</pre>"
      ],
      "text/plain": [
       "    Data prepared in: 14.6014s"
      ]
     },
     "metadata": {},
     "output_type": "display_data"
    },
    {
     "data": {
      "text/html": [
       "<pre>Training factorization_recommender for recommendations.</pre>"
      ],
      "text/plain": [
       "Training factorization_recommender for recommendations."
      ]
     },
     "metadata": {},
     "output_type": "display_data"
    },
    {
     "data": {
      "text/html": [
       "<pre>+--------------------------------+--------------------------------------------------+----------+</pre>"
      ],
      "text/plain": [
       "+--------------------------------+--------------------------------------------------+----------+"
      ]
     },
     "metadata": {},
     "output_type": "display_data"
    },
    {
     "data": {
      "text/html": [
       "<pre>| Parameter                      | Description                                      | Value    |</pre>"
      ],
      "text/plain": [
       "| Parameter                      | Description                                      | Value    |"
      ]
     },
     "metadata": {},
     "output_type": "display_data"
    },
    {
     "data": {
      "text/html": [
       "<pre>+--------------------------------+--------------------------------------------------+----------+</pre>"
      ],
      "text/plain": [
       "+--------------------------------+--------------------------------------------------+----------+"
      ]
     },
     "metadata": {},
     "output_type": "display_data"
    },
    {
     "data": {
      "text/html": [
       "<pre>| num_factors                    | Factor Dimension                                 | 8        |</pre>"
      ],
      "text/plain": [
       "| num_factors                    | Factor Dimension                                 | 8        |"
      ]
     },
     "metadata": {},
     "output_type": "display_data"
    },
    {
     "data": {
      "text/html": [
       "<pre>| regularization                 | L2 Regularization on Factors                     | 1e-08    |</pre>"
      ],
      "text/plain": [
       "| regularization                 | L2 Regularization on Factors                     | 1e-08    |"
      ]
     },
     "metadata": {},
     "output_type": "display_data"
    },
    {
     "data": {
      "text/html": [
       "<pre>| solver                         | Solver used for training                         | adagrad  |</pre>"
      ],
      "text/plain": [
       "| solver                         | Solver used for training                         | adagrad  |"
      ]
     },
     "metadata": {},
     "output_type": "display_data"
    },
    {
     "data": {
      "text/html": [
       "<pre>| linear_regularization          | L2 Regularization on Linear Coefficients         | 1e-10    |</pre>"
      ],
      "text/plain": [
       "| linear_regularization          | L2 Regularization on Linear Coefficients         | 1e-10    |"
      ]
     },
     "metadata": {},
     "output_type": "display_data"
    },
    {
     "data": {
      "text/html": [
       "<pre>| max_iterations                 | Maximum Number of Iterations                     | 50       |</pre>"
      ],
      "text/plain": [
       "| max_iterations                 | Maximum Number of Iterations                     | 50       |"
      ]
     },
     "metadata": {},
     "output_type": "display_data"
    },
    {
     "data": {
      "text/html": [
       "<pre>+--------------------------------+--------------------------------------------------+----------+</pre>"
      ],
      "text/plain": [
       "+--------------------------------+--------------------------------------------------+----------+"
      ]
     },
     "metadata": {},
     "output_type": "display_data"
    },
    {
     "data": {
      "text/html": [
       "<pre>  Optimizing model using SGD; tuning step size.</pre>"
      ],
      "text/plain": [
       "  Optimizing model using SGD; tuning step size."
      ]
     },
     "metadata": {},
     "output_type": "display_data"
    },
    {
     "data": {
      "text/html": [
       "<pre>  Using 337217 / 2697738 points for tuning the step size.</pre>"
      ],
      "text/plain": [
       "  Using 337217 / 2697738 points for tuning the step size."
      ]
     },
     "metadata": {},
     "output_type": "display_data"
    },
    {
     "data": {
      "text/html": [
       "<pre>+---------+-------------------+------------------------------------------+</pre>"
      ],
      "text/plain": [
       "+---------+-------------------+------------------------------------------+"
      ]
     },
     "metadata": {},
     "output_type": "display_data"
    },
    {
     "data": {
      "text/html": [
       "<pre>| Attempt | Initial Step Size | Estimated Objective Value                |</pre>"
      ],
      "text/plain": [
       "| Attempt | Initial Step Size | Estimated Objective Value                |"
      ]
     },
     "metadata": {},
     "output_type": "display_data"
    },
    {
     "data": {
      "text/html": [
       "<pre>+---------+-------------------+------------------------------------------+</pre>"
      ],
      "text/plain": [
       "+---------+-------------------+------------------------------------------+"
      ]
     },
     "metadata": {},
     "output_type": "display_data"
    },
    {
     "data": {
      "text/html": [
       "<pre>| 0       | 2                 | Not Viable                               |</pre>"
      ],
      "text/plain": [
       "| 0       | 2                 | Not Viable                               |"
      ]
     },
     "metadata": {},
     "output_type": "display_data"
    },
    {
     "data": {
      "text/html": [
       "<pre>| 1       | 0.5               | Not Viable                               |</pre>"
      ],
      "text/plain": [
       "| 1       | 0.5               | Not Viable                               |"
      ]
     },
     "metadata": {},
     "output_type": "display_data"
    },
    {
     "data": {
      "text/html": [
       "<pre>| 2       | 0.125             | Not Viable                               |</pre>"
      ],
      "text/plain": [
       "| 2       | 0.125             | Not Viable                               |"
      ]
     },
     "metadata": {},
     "output_type": "display_data"
    },
    {
     "data": {
      "text/html": [
       "<pre>| 3       | 0.03125           | Not Viable                               |</pre>"
      ],
      "text/plain": [
       "| 3       | 0.03125           | Not Viable                               |"
      ]
     },
     "metadata": {},
     "output_type": "display_data"
    },
    {
     "data": {
      "text/html": [
       "<pre>| 4       | 0.0078125         | 0.000478118                              |</pre>"
      ],
      "text/plain": [
       "| 4       | 0.0078125         | 0.000478118                              |"
      ]
     },
     "metadata": {},
     "output_type": "display_data"
    },
    {
     "data": {
      "text/html": [
       "<pre>| 5       | 0.00390625        | 0.000624278                              |</pre>"
      ],
      "text/plain": [
       "| 5       | 0.00390625        | 0.000624278                              |"
      ]
     },
     "metadata": {},
     "output_type": "display_data"
    },
    {
     "data": {
      "text/html": [
       "<pre>| 6       | 0.00195312        | 0.000709828                              |</pre>"
      ],
      "text/plain": [
       "| 6       | 0.00195312        | 0.000709828                              |"
      ]
     },
     "metadata": {},
     "output_type": "display_data"
    },
    {
     "data": {
      "text/html": [
       "<pre>| 7       | 0.000976562       | 0.000759734                              |</pre>"
      ],
      "text/plain": [
       "| 7       | 0.000976562       | 0.000759734                              |"
      ]
     },
     "metadata": {},
     "output_type": "display_data"
    },
    {
     "data": {
      "text/html": [
       "<pre>+---------+-------------------+------------------------------------------+</pre>"
      ],
      "text/plain": [
       "+---------+-------------------+------------------------------------------+"
      ]
     },
     "metadata": {},
     "output_type": "display_data"
    },
    {
     "data": {
      "text/html": [
       "<pre>| Final   | 0.0078125         | 0.000478118                              |</pre>"
      ],
      "text/plain": [
       "| Final   | 0.0078125         | 0.000478118                              |"
      ]
     },
     "metadata": {},
     "output_type": "display_data"
    },
    {
     "data": {
      "text/html": [
       "<pre>+---------+-------------------+------------------------------------------+</pre>"
      ],
      "text/plain": [
       "+---------+-------------------+------------------------------------------+"
      ]
     },
     "metadata": {},
     "output_type": "display_data"
    },
    {
     "data": {
      "text/html": [
       "<pre>Starting Optimization.</pre>"
      ],
      "text/plain": [
       "Starting Optimization."
      ]
     },
     "metadata": {},
     "output_type": "display_data"
    },
    {
     "data": {
      "text/html": [
       "<pre>+---------+--------------+-------------------+-----------------------+-------------+</pre>"
      ],
      "text/plain": [
       "+---------+--------------+-------------------+-----------------------+-------------+"
      ]
     },
     "metadata": {},
     "output_type": "display_data"
    },
    {
     "data": {
      "text/html": [
       "<pre>| Iter.   | Elapsed Time | Approx. Objective | Approx. Training RMSE | Step Size   |</pre>"
      ],
      "text/plain": [
       "| Iter.   | Elapsed Time | Approx. Objective | Approx. Training RMSE | Step Size   |"
      ]
     },
     "metadata": {},
     "output_type": "display_data"
    },
    {
     "data": {
      "text/html": [
       "<pre>+---------+--------------+-------------------+-----------------------+-------------+</pre>"
      ],
      "text/plain": [
       "+---------+--------------+-------------------+-----------------------+-------------+"
      ]
     },
     "metadata": {},
     "output_type": "display_data"
    },
    {
     "data": {
      "text/html": [
       "<pre>| Initial | 94us         | 0.000754288       | 0.0274643             |             |</pre>"
      ],
      "text/plain": [
       "| Initial | 94us         | 0.000754288       | 0.0274643             |             |"
      ]
     },
     "metadata": {},
     "output_type": "display_data"
    },
    {
     "data": {
      "text/html": [
       "<pre>+---------+--------------+-------------------+-----------------------+-------------+</pre>"
      ],
      "text/plain": [
       "+---------+--------------+-------------------+-----------------------+-------------+"
      ]
     },
     "metadata": {},
     "output_type": "display_data"
    },
    {
     "data": {
      "text/html": [
       "<pre>| 1       | 2.83s        | 0.000835746       | 0.0281403             | 0.0078125   |</pre>"
      ],
      "text/plain": [
       "| 1       | 2.83s        | 0.000835746       | 0.0281403             | 0.0078125   |"
      ]
     },
     "metadata": {},
     "output_type": "display_data"
    },
    {
     "data": {
      "text/html": [
       "<pre>| 2       | 5.57s        | 0.00117611        | 0.0333444             | 0.0078125   |</pre>"
      ],
      "text/plain": [
       "| 2       | 5.57s        | 0.00117611        | 0.0333444             | 0.0078125   |"
      ]
     },
     "metadata": {},
     "output_type": "display_data"
    },
    {
     "data": {
      "text/html": [
       "<pre>| 3       | 8.19s        | 0.000735019       | 0.0259623             | 0.0078125   |</pre>"
      ],
      "text/plain": [
       "| 3       | 8.19s        | 0.000735019       | 0.0259623             | 0.0078125   |"
      ]
     },
     "metadata": {},
     "output_type": "display_data"
    },
    {
     "data": {
      "text/html": [
       "<pre>| 4       | 10.64s       | 0.000636963       | 0.0240053             | 0.0078125   |</pre>"
      ],
      "text/plain": [
       "| 4       | 10.64s       | 0.000636963       | 0.0240053             | 0.0078125   |"
      ]
     },
     "metadata": {},
     "output_type": "display_data"
    },
    {
     "data": {
      "text/html": [
       "<pre>| 5       | 13.15s       | 0.000564024       | 0.0224395             | 0.0078125   |</pre>"
      ],
      "text/plain": [
       "| 5       | 13.15s       | 0.000564024       | 0.0224395             | 0.0078125   |"
      ]
     },
     "metadata": {},
     "output_type": "display_data"
    },
    {
     "data": {
      "text/html": [
       "<pre>| 6       | 15.49s       | 0.000500327       | 0.0209696             | 0.0078125   |</pre>"
      ],
      "text/plain": [
       "| 6       | 15.49s       | 0.000500327       | 0.0209696             | 0.0078125   |"
      ]
     },
     "metadata": {},
     "output_type": "display_data"
    },
    {
     "data": {
      "text/html": [
       "<pre>| 7       | 17.82s       | 0.000441554       | 0.0195077             | 0.0078125   |</pre>"
      ],
      "text/plain": [
       "| 7       | 17.82s       | 0.000441554       | 0.0195077             | 0.0078125   |"
      ]
     },
     "metadata": {},
     "output_type": "display_data"
    },
    {
     "data": {
      "text/html": [
       "<pre>| 8       | 20.15s       | 0.000387542       | 0.0180541             | 0.0078125   |</pre>"
      ],
      "text/plain": [
       "| 8       | 20.15s       | 0.000387542       | 0.0180541             | 0.0078125   |"
      ]
     },
     "metadata": {},
     "output_type": "display_data"
    },
    {
     "data": {
      "text/html": [
       "<pre>| 9       | 22.44s       | 0.0003458         | 0.0168333             | 0.0078125   |</pre>"
      ],
      "text/plain": [
       "| 9       | 22.44s       | 0.0003458         | 0.0168333             | 0.0078125   |"
      ]
     },
     "metadata": {},
     "output_type": "display_data"
    },
    {
     "data": {
      "text/html": [
       "<pre>| 10      | 24.77s       | 0.00031129        | 0.0157391             | 0.0078125   |</pre>"
      ],
      "text/plain": [
       "| 10      | 24.77s       | 0.00031129        | 0.0157391             | 0.0078125   |"
      ]
     },
     "metadata": {},
     "output_type": "display_data"
    },
    {
     "data": {
      "text/html": [
       "<pre>| 11      | 27.15s       | 0.000283436       | 0.0147793             | 0.0078125   |</pre>"
      ],
      "text/plain": [
       "| 11      | 27.15s       | 0.000283436       | 0.0147793             | 0.0078125   |"
      ]
     },
     "metadata": {},
     "output_type": "display_data"
    },
    {
     "data": {
      "text/html": [
       "<pre>| 12      | 29.49s       | 0.000280819       | 0.0146185             | 0.0078125   |</pre>"
      ],
      "text/plain": [
       "| 12      | 29.49s       | 0.000280819       | 0.0146185             | 0.0078125   |"
      ]
     },
     "metadata": {},
     "output_type": "display_data"
    },
    {
     "data": {
      "text/html": [
       "<pre>| 13      | 31.80s       | 0.000316103       | 0.0156744             | 0.0078125   |</pre>"
      ],
      "text/plain": [
       "| 13      | 31.80s       | 0.000316103       | 0.0156744             | 0.0078125   |"
      ]
     },
     "metadata": {},
     "output_type": "display_data"
    },
    {
     "data": {
      "text/html": [
       "<pre>| 14      | 34.13s       | 0.000492994       | 0.0204074             | 0.0078125   |</pre>"
      ],
      "text/plain": [
       "| 14      | 34.13s       | 0.000492994       | 0.0204074             | 0.0078125   |"
      ]
     },
     "metadata": {},
     "output_type": "display_data"
    },
    {
     "data": {
      "text/html": [
       "<pre>| 15      | 37.30s       | DIVERGED          | DIVERGED              | 0.0078125   |</pre>"
      ],
      "text/plain": [
       "| 15      | 37.30s       | DIVERGED          | DIVERGED              | 0.0078125   |"
      ]
     },
     "metadata": {},
     "output_type": "display_data"
    },
    {
     "data": {
      "text/html": [
       "<pre>| RESET   | 38.72s       | 0.000755911       | 0.0274938             |             |</pre>"
      ],
      "text/plain": [
       "| RESET   | 38.72s       | 0.000755911       | 0.0274938             |             |"
      ]
     },
     "metadata": {},
     "output_type": "display_data"
    },
    {
     "data": {
      "text/html": [
       "<pre>| 1       | 41.12s       | 0.000774676       | 0.0276338             | 0.00390625  |</pre>"
      ],
      "text/plain": [
       "| 1       | 41.12s       | 0.000774676       | 0.0276338             | 0.00390625  |"
      ]
     },
     "metadata": {},
     "output_type": "display_data"
    },
    {
     "data": {
      "text/html": [
       "<pre>| 2       | 43.49s       | 0.000857394       | 0.0290404             | 0.00390625  |</pre>"
      ],
      "text/plain": [
       "| 2       | 43.49s       | 0.000857394       | 0.0290404             | 0.00390625  |"
      ]
     },
     "metadata": {},
     "output_type": "display_data"
    },
    {
     "data": {
      "text/html": [
       "<pre>| 3       | 45.81s       | 0.000726317       | 0.0266777             | 0.00390625  |</pre>"
      ],
      "text/plain": [
       "| 3       | 45.81s       | 0.000726317       | 0.0266777             | 0.00390625  |"
      ]
     },
     "metadata": {},
     "output_type": "display_data"
    },
    {
     "data": {
      "text/html": [
       "<pre>| 4       | 48.11s       | 0.000697255       | 0.026107              | 0.00390625  |</pre>"
      ],
      "text/plain": [
       "| 4       | 48.11s       | 0.000697255       | 0.026107              | 0.00390625  |"
      ]
     },
     "metadata": {},
     "output_type": "display_data"
    },
    {
     "data": {
      "text/html": [
       "<pre>| 5       | 50.44s       | 0.000682966       | 0.0258044             | 0.00390625  |</pre>"
      ],
      "text/plain": [
       "| 5       | 50.44s       | 0.000682966       | 0.0258044             | 0.00390625  |"
      ]
     },
     "metadata": {},
     "output_type": "display_data"
    },
    {
     "data": {
      "text/html": [
       "<pre>| 6       | 52.78s       | 0.000683869       | 0.025785              | 0.00390625  |</pre>"
      ],
      "text/plain": [
       "| 6       | 52.78s       | 0.000683869       | 0.025785              | 0.00390625  |"
      ]
     },
     "metadata": {},
     "output_type": "display_data"
    },
    {
     "data": {
      "text/html": [
       "<pre>| 7       | 55.11s       | 0.000716143       | 0.0263543             | 0.00390625  |</pre>"
      ],
      "text/plain": [
       "| 7       | 55.11s       | 0.000716143       | 0.0263543             | 0.00390625  |"
      ]
     },
     "metadata": {},
     "output_type": "display_data"
    },
    {
     "data": {
      "text/html": [
       "<pre>| 8       | 57.43s       | 0.000767136       | 0.0272441             | 0.00390625  |</pre>"
      ],
      "text/plain": [
       "| 8       | 57.43s       | 0.000767136       | 0.0272441             | 0.00390625  |"
      ]
     },
     "metadata": {},
     "output_type": "display_data"
    },
    {
     "data": {
      "text/html": [
       "<pre>| 9       | 59.76s       | 0.000870066       | 0.0289999             | 0.00390625  |</pre>"
      ],
      "text/plain": [
       "| 9       | 59.76s       | 0.000870066       | 0.0289999             | 0.00390625  |"
      ]
     },
     "metadata": {},
     "output_type": "display_data"
    },
    {
     "data": {
      "text/html": [
       "<pre>| 10      | 1m 2s        | 0.000953744       | 0.0303303             | 0.00390625  |</pre>"
      ],
      "text/plain": [
       "| 10      | 1m 2s        | 0.000953744       | 0.0303303             | 0.00390625  |"
      ]
     },
     "metadata": {},
     "output_type": "display_data"
    },
    {
     "data": {
      "text/html": [
       "<pre>| 11      | 1m 4s        | 0.00102401        | 0.031388              | 0.00390625  |</pre>"
      ],
      "text/plain": [
       "| 11      | 1m 4s        | 0.00102401        | 0.031388              | 0.00390625  |"
      ]
     },
     "metadata": {},
     "output_type": "display_data"
    },
    {
     "data": {
      "text/html": [
       "<pre>| 12      | 1m 6s        | 0.00102416        | 0.0313141             | 0.00390625  |</pre>"
      ],
      "text/plain": [
       "| 12      | 1m 6s        | 0.00102416        | 0.0313141             | 0.00390625  |"
      ]
     },
     "metadata": {},
     "output_type": "display_data"
    },
    {
     "data": {
      "text/html": [
       "<pre>| 13      | 1m 10s       | 0.000957897       | 0.0301682             | 0.00390625  |</pre>"
      ],
      "text/plain": [
       "| 13      | 1m 10s       | 0.000957897       | 0.0301682             | 0.00390625  |"
      ]
     },
     "metadata": {},
     "output_type": "display_data"
    },
    {
     "data": {
      "text/html": [
       "<pre>| 14      | 1m 12s       | 0.000869551       | 0.0286054             | 0.00390625  |</pre>"
      ],
      "text/plain": [
       "| 14      | 1m 12s       | 0.000869551       | 0.0286054             | 0.00390625  |"
      ]
     },
     "metadata": {},
     "output_type": "display_data"
    },
    {
     "data": {
      "text/html": [
       "<pre>| 15      | 1m 14s       | 0.000762982       | 0.0266242             | 0.00390625  |</pre>"
      ],
      "text/plain": [
       "| 15      | 1m 14s       | 0.000762982       | 0.0266242             | 0.00390625  |"
      ]
     },
     "metadata": {},
     "output_type": "display_data"
    },
    {
     "data": {
      "text/html": [
       "<pre>| 16      | 1m 17s       | 0.000672306       | 0.0248152             | 0.00390625  |</pre>"
      ],
      "text/plain": [
       "| 16      | 1m 17s       | 0.000672306       | 0.0248152             | 0.00390625  |"
      ]
     },
     "metadata": {},
     "output_type": "display_data"
    },
    {
     "data": {
      "text/html": [
       "<pre>| 17      | 1m 19s       | 0.000597246       | 0.0232099             | 0.00390625  |</pre>"
      ],
      "text/plain": [
       "| 17      | 1m 19s       | 0.000597246       | 0.0232099             | 0.00390625  |"
      ]
     },
     "metadata": {},
     "output_type": "display_data"
    },
    {
     "data": {
      "text/html": [
       "<pre>| 18      | 1m 22s       | 0.000528785       | 0.0216455             | 0.00390625  |</pre>"
      ],
      "text/plain": [
       "| 18      | 1m 22s       | 0.000528785       | 0.0216455             | 0.00390625  |"
      ]
     },
     "metadata": {},
     "output_type": "display_data"
    },
    {
     "data": {
      "text/html": [
       "<pre>| 19      | 1m 24s       | 0.000479038       | 0.0204268             | 0.00390625  |</pre>"
      ],
      "text/plain": [
       "| 19      | 1m 24s       | 0.000479038       | 0.0204268             | 0.00390625  |"
      ]
     },
     "metadata": {},
     "output_type": "display_data"
    },
    {
     "data": {
      "text/html": [
       "<pre>| 20      | 1m 26s       | 0.000434844       | 0.0192805             | 0.00390625  |</pre>"
      ],
      "text/plain": [
       "| 20      | 1m 26s       | 0.000434844       | 0.0192805             | 0.00390625  |"
      ]
     },
     "metadata": {},
     "output_type": "display_data"
    },
    {
     "data": {
      "text/html": [
       "<pre>| 21      | 1m 29s       | 0.00039243        | 0.0181163             | 0.00390625  |</pre>"
      ],
      "text/plain": [
       "| 21      | 1m 29s       | 0.00039243        | 0.0181163             | 0.00390625  |"
      ]
     },
     "metadata": {},
     "output_type": "display_data"
    },
    {
     "data": {
      "text/html": [
       "<pre>| 22      | 1m 31s       | 0.000354199       | 0.0170009             | 0.00390625  |</pre>"
      ],
      "text/plain": [
       "| 22      | 1m 31s       | 0.000354199       | 0.0170009             | 0.00390625  |"
      ]
     },
     "metadata": {},
     "output_type": "display_data"
    },
    {
     "data": {
      "text/html": [
       "<pre>| 23      | 1m 33s       | 0.00031738        | 0.0158576             | 0.00390625  |</pre>"
      ],
      "text/plain": [
       "| 23      | 1m 33s       | 0.00031738        | 0.0158576             | 0.00390625  |"
      ]
     },
     "metadata": {},
     "output_type": "display_data"
    },
    {
     "data": {
      "text/html": [
       "<pre>| 24      | 1m 36s       | 0.000286201       | 0.0148214             | 0.00390625  |</pre>"
      ],
      "text/plain": [
       "| 24      | 1m 36s       | 0.000286201       | 0.0148214             | 0.00390625  |"
      ]
     },
     "metadata": {},
     "output_type": "display_data"
    },
    {
     "data": {
      "text/html": [
       "<pre>| 25      | 1m 38s       | 0.000258566       | 0.0138409             | 0.00390625  |</pre>"
      ],
      "text/plain": [
       "| 25      | 1m 38s       | 0.000258566       | 0.0138409             | 0.00390625  |"
      ]
     },
     "metadata": {},
     "output_type": "display_data"
    },
    {
     "data": {
      "text/html": [
       "<pre>| 26      | 1m 40s       | 0.000235522       | 0.012967              | 0.00390625  |</pre>"
      ],
      "text/plain": [
       "| 26      | 1m 40s       | 0.000235522       | 0.012967              | 0.00390625  |"
      ]
     },
     "metadata": {},
     "output_type": "display_data"
    },
    {
     "data": {
      "text/html": [
       "<pre>| 27      | 1m 43s       | 0.000215208       | 0.0121465             | 0.00390625  |</pre>"
      ],
      "text/plain": [
       "| 27      | 1m 43s       | 0.000215208       | 0.0121465             | 0.00390625  |"
      ]
     },
     "metadata": {},
     "output_type": "display_data"
    },
    {
     "data": {
      "text/html": [
       "<pre>| 28      | 1m 45s       | 0.000197748       | 0.0113954             | 0.00390625  |</pre>"
      ],
      "text/plain": [
       "| 28      | 1m 45s       | 0.000197748       | 0.0113954             | 0.00390625  |"
      ]
     },
     "metadata": {},
     "output_type": "display_data"
    },
    {
     "data": {
      "text/html": [
       "<pre>| 29      | 1m 48s       | 0.000183169       | 0.0107278             | 0.00390625  |</pre>"
      ],
      "text/plain": [
       "| 29      | 1m 48s       | 0.000183169       | 0.0107278             | 0.00390625  |"
      ]
     },
     "metadata": {},
     "output_type": "display_data"
    },
    {
     "data": {
      "text/html": [
       "<pre>| 30      | 1m 50s       | 0.000170289       | 0.0101025             | 0.00390625  |</pre>"
      ],
      "text/plain": [
       "| 30      | 1m 50s       | 0.000170289       | 0.0101025             | 0.00390625  |"
      ]
     },
     "metadata": {},
     "output_type": "display_data"
    },
    {
     "data": {
      "text/html": [
       "<pre>| 31      | 1m 52s       | 0.000158605       | 0.00950192            | 0.00390625  |</pre>"
      ],
      "text/plain": [
       "| 31      | 1m 52s       | 0.000158605       | 0.00950192            | 0.00390625  |"
      ]
     },
     "metadata": {},
     "output_type": "display_data"
    },
    {
     "data": {
      "text/html": [
       "<pre>| 32      | 1m 55s       | 0.00014862        | 0.00895685            | 0.00390625  |</pre>"
      ],
      "text/plain": [
       "| 32      | 1m 55s       | 0.00014862        | 0.00895685            | 0.00390625  |"
      ]
     },
     "metadata": {},
     "output_type": "display_data"
    },
    {
     "data": {
      "text/html": [
       "<pre>| 33      | 1m 57s       | 0.000139236       | 0.00841521            | 0.00390625  |</pre>"
      ],
      "text/plain": [
       "| 33      | 1m 57s       | 0.000139236       | 0.00841521            | 0.00390625  |"
      ]
     },
     "metadata": {},
     "output_type": "display_data"
    },
    {
     "data": {
      "text/html": [
       "<pre>| 34      | 1m 59s       | 0.000131929       | 0.00796684            | 0.00390625  |</pre>"
      ],
      "text/plain": [
       "| 34      | 1m 59s       | 0.000131929       | 0.00796684            | 0.00390625  |"
      ]
     },
     "metadata": {},
     "output_type": "display_data"
    },
    {
     "data": {
      "text/html": [
       "<pre>| 35      | 2m 2s        | 0.000125111       | 0.00752438            | 0.00390625  |</pre>"
      ],
      "text/plain": [
       "| 35      | 2m 2s        | 0.000125111       | 0.00752438            | 0.00390625  |"
      ]
     },
     "metadata": {},
     "output_type": "display_data"
    },
    {
     "data": {
      "text/html": [
       "<pre>| 36      | 2m 4s        | 0.000119097       | 0.00711253            | 0.00390625  |</pre>"
      ],
      "text/plain": [
       "| 36      | 2m 4s        | 0.000119097       | 0.00711253            | 0.00390625  |"
      ]
     },
     "metadata": {},
     "output_type": "display_data"
    },
    {
     "data": {
      "text/html": [
       "<pre>| 37      | 2m 6s        | 0.000113663       | 0.00671928            | 0.00390625  |</pre>"
      ],
      "text/plain": [
       "| 37      | 2m 6s        | 0.000113663       | 0.00671928            | 0.00390625  |"
      ]
     },
     "metadata": {},
     "output_type": "display_data"
    },
    {
     "data": {
      "text/html": [
       "<pre>| 38      | 2m 9s        | 0.000109257       | 0.00638329            | 0.00390625  |</pre>"
      ],
      "text/plain": [
       "| 38      | 2m 9s        | 0.000109257       | 0.00638329            | 0.00390625  |"
      ]
     },
     "metadata": {},
     "output_type": "display_data"
    },
    {
     "data": {
      "text/html": [
       "<pre>| 39      | 2m 11s       | 0.000104817       | 0.00602801            | 0.00390625  |</pre>"
      ],
      "text/plain": [
       "| 39      | 2m 11s       | 0.000104817       | 0.00602801            | 0.00390625  |"
      ]
     },
     "metadata": {},
     "output_type": "display_data"
    },
    {
     "data": {
      "text/html": [
       "<pre>| 40      | 2m 13s       | 0.000100855       | 0.00569186            | 0.00390625  |</pre>"
      ],
      "text/plain": [
       "| 40      | 2m 13s       | 0.000100855       | 0.00569186            | 0.00390625  |"
      ]
     },
     "metadata": {},
     "output_type": "display_data"
    },
    {
     "data": {
      "text/html": [
       "<pre>+---------+--------------+-------------------+-----------------------+-------------+</pre>"
      ],
      "text/plain": [
       "+---------+--------------+-------------------+-----------------------+-------------+"
      ]
     },
     "metadata": {},
     "output_type": "display_data"
    },
    {
     "data": {
      "text/html": [
       "<pre>Optimization Complete: Maximum number of passes through the data reached (hard limit).</pre>"
      ],
      "text/plain": [
       "Optimization Complete: Maximum number of passes through the data reached (hard limit)."
      ]
     },
     "metadata": {},
     "output_type": "display_data"
    },
    {
     "data": {
      "text/html": [
       "<pre>Computing final objective value and training RMSE.</pre>"
      ],
      "text/plain": [
       "Computing final objective value and training RMSE."
      ]
     },
     "metadata": {},
     "output_type": "display_data"
    },
    {
     "data": {
      "text/html": [
       "<pre>       Final objective value: 9.6565e-05</pre>"
      ],
      "text/plain": [
       "       Final objective value: 9.6565e-05"
      ]
     },
     "metadata": {},
     "output_type": "display_data"
    },
    {
     "data": {
      "text/html": [
       "<pre>       Final training RMSE: 0.00530159</pre>"
      ],
      "text/plain": [
       "       Final training RMSE: 0.00530159"
      ]
     },
     "metadata": {},
     "output_type": "display_data"
    },
    {
     "ename": "AttributeError",
     "evalue": "'SFrame' object has no attribute 'click'",
     "output_type": "error",
     "traceback": [
      "\u001b[0;31m---------------------------------------------------------------------------\u001b[0m",
      "\u001b[0;31mAttributeError\u001b[0m                            Traceback (most recent call last)",
      "\u001b[0;32m<ipython-input-3-cf186889012c>\u001b[0m in \u001b[0;36m<module>\u001b[0;34m()\u001b[0m\n\u001b[1;32m      2\u001b[0m \u001b[0mpctr\u001b[0m \u001b[0;34m=\u001b[0m \u001b[0mm1\u001b[0m\u001b[0;34m.\u001b[0m\u001b[0mpredict\u001b[0m\u001b[0;34m(\u001b[0m\u001b[0mwe_val\u001b[0m\u001b[0;34m)\u001b[0m\u001b[0;34m\u001b[0m\u001b[0m\n\u001b[1;32m      3\u001b[0m \u001b[0;34m\u001b[0m\u001b[0m\n\u001b[0;32m----> 4\u001b[0;31m \u001b[0mavgCTR\u001b[0m \u001b[0;34m=\u001b[0m \u001b[0;34m(\u001b[0m\u001b[0mwe_train\u001b[0m\u001b[0;34m.\u001b[0m\u001b[0mclick\u001b[0m\u001b[0;34m.\u001b[0m\u001b[0msum\u001b[0m\u001b[0;34m(\u001b[0m\u001b[0;34m)\u001b[0m \u001b[0;34m/\u001b[0m \u001b[0mwe_train\u001b[0m\u001b[0;34m.\u001b[0m\u001b[0mlogtype\u001b[0m\u001b[0;34m.\u001b[0m\u001b[0msum\u001b[0m\u001b[0;34m(\u001b[0m\u001b[0;34m)\u001b[0m\u001b[0;34m*\u001b[0m\u001b[0;36m100\u001b[0m\u001b[0;34m)\u001b[0m\u001b[0;34m\u001b[0m\u001b[0m\n\u001b[0m",
      "\u001b[0;31mAttributeError\u001b[0m: 'SFrame' object has no attribute 'click'"
     ]
    }
   ],
   "source": [
    "m1 = gl.factorization_recommender.create(we_train, target='click', user_id='userid', item_id='bidid')\n",
    "pctr = m1.predict(we_val)\n",
    "\n",
    "avgCTR = (we_train.click.sum() / we_train.logtype.sum()*100)"
   ]
  },
  {
   "cell_type": "code",
   "execution_count": 4,
   "metadata": {},
   "outputs": [
    {
     "data": {
      "text/plain": [
       "dtype: float\n",
       "Rows: 299749\n",
       "[-0.01864282225146796, 0.03288815230490982, -0.0667451941423487, -0.06707969876624276, 0.5147915449426765, -0.15214699697787837, 0.07022564528035136, -0.31563954861459687, -0.07222351856936449, 0.2036878982829755, -0.015286593512461533, -0.3340156867177526, -0.035259852784615964, -0.09969275520877297, -0.04468616652212487, -0.12422670562171723, -0.013673965050406522, -0.0283748747465562, -0.04099410085673294, 0.491388686040372, -0.0431609919351279, 0.12790138343206747, 0.13938721368773166, 0.024680802959499815, -0.046000214716141574, 0.15336793895964562, 0.03221843326662621, 0.041989613295567274, -0.044652629077178374, -0.1745096707714846, 0.039350808061013653, 0.09653166714982353, -0.019764628742296342, -0.32827474014856284, 0.20847769217157408, -0.21588539420562114, -0.16122914779755382, 0.1033089167988605, 0.04699118149912218, -0.036046205294682165, -0.03701395499275051, -0.05513566471914788, -0.08734453687512422, 0.0652588654650249, 0.024423018574887267, 0.3869112252156133, -0.041154274989523065, -0.11481092940892812, -0.035309870712483926, -0.13362831944147857, -0.017485652601720747, -0.004507471178498035, 0.01411692734129244, -0.05243704900561341, -0.15532612366330212, -0.014807995921072514, -0.12156260337485136, -0.07216029963247617, -0.1349618514908022, -0.024910838829906634, -0.22658454438162656, -0.03778576714991533, -0.12069236949706985, -0.05051975882497084, -0.1119505072828243, 0.2605462076972562, -0.045468838310616544, 0.19941967927047344, -0.1365798833776407, -0.292135724833539, 0.1462567414644833, 0.3663481347830474, 0.06394076708703378, 0.12576139909983508, -0.0830390090307841, 0.27736234655602954, 0.2597650693912785, 0.0409310425251046, 0.21174374090161285, -0.08093996941559967, -0.10013323514492511, 0.192293133759321, -0.053932727644330214, -0.014775219460742006, 0.008836285687988443, -0.00942379860699516, -0.052455965996171194, -0.10017914229349467, 0.4631708260708136, -0.0021234356049133485, 0.11148039343982807, -0.39062721859515515, 0.1544764386079338, 0.4756867814247414, -0.04057198473127399, -0.018833433556212587, -0.0882812622265734, -0.17379139725598503, -0.1270043593120196, -0.001146013112559796, ... ]"
      ]
     },
     "execution_count": 4,
     "metadata": {},
     "output_type": "execute_result"
    }
   ],
   "source": [
    "pctr"
   ]
  },
  {
   "cell_type": "code",
   "execution_count": null,
   "metadata": {},
   "outputs": [],
   "source": []
  },
  {
   "cell_type": "code",
   "execution_count": null,
   "metadata": {
    "collapsed": true
   },
   "outputs": [],
   "source": []
  }
 ],
 "metadata": {
  "kernelspec": {
   "display_name": "Python 2",
   "language": "python",
   "name": "python2"
  },
  "language_info": {
   "codemirror_mode": {
    "name": "ipython",
    "version": 2
   },
   "file_extension": ".py",
   "mimetype": "text/x-python",
   "name": "python",
   "nbconvert_exporter": "python",
   "pygments_lexer": "ipython2",
   "version": "2.7.13"
  }
 },
 "nbformat": 4,
 "nbformat_minor": 2
}
