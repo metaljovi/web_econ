{
 "cells": [
  {
   "cell_type": "code",
   "execution_count": 9,
   "metadata": {
    "collapsed": true
   },
   "outputs": [],
   "source": [
    "from ipywidgets import FloatProgress\n",
    "from IPython.display import display\n",
    "import graphlab as gl\n",
    "import pandas as pd"
   ]
  },
  {
   "cell_type": "code",
   "execution_count": 10,
   "metadata": {},
   "outputs": [
    {
     "data": {
      "text/html": [
       "<pre>Finished parsing file /Users/ssong/Downloads/WebEcon/train.csv</pre>"
      ],
      "text/plain": [
       "Finished parsing file /Users/ssong/Downloads/WebEcon/train.csv"
      ]
     },
     "metadata": {},
     "output_type": "display_data"
    },
    {
     "data": {
      "text/html": [
       "<pre>Parsing completed. Parsed 100 lines in 1.48709 secs.</pre>"
      ],
      "text/plain": [
       "Parsing completed. Parsed 100 lines in 1.48709 secs."
      ]
     },
     "metadata": {},
     "output_type": "display_data"
    },
    {
     "name": "stdout",
     "output_type": "stream",
     "text": [
      "------------------------------------------------------\n",
      "Inferred types from first 100 line(s) of file as \n",
      "column_type_hints=[int,int,int,str,int,str,str,str,int,int,str,str,str,str,str,int,int,str,str,int,str,int,int,str,int,str]\n",
      "If parsing fails due to incorrect types, you can correct\n",
      "the inferred type list above and pass it to read_csv in\n",
      "the column_type_hints argument\n",
      "------------------------------------------------------\n"
     ]
    },
    {
     "data": {
      "text/html": [
       "<pre>Read 186256 lines. Lines per second: 98035.1</pre>"
      ],
      "text/plain": [
       "Read 186256 lines. Lines per second: 98035.1"
      ]
     },
     "metadata": {},
     "output_type": "display_data"
    },
    {
     "data": {
      "text/html": [
       "<pre>Read 931199 lines. Lines per second: 117509</pre>"
      ],
      "text/plain": [
       "Read 931199 lines. Lines per second: 117509"
      ]
     },
     "metadata": {},
     "output_type": "display_data"
    },
    {
     "data": {
      "text/html": [
       "<pre>Read 1676081 lines. Lines per second: 122283</pre>"
      ],
      "text/plain": [
       "Read 1676081 lines. Lines per second: 122283"
      ]
     },
     "metadata": {},
     "output_type": "display_data"
    },
    {
     "data": {
      "text/html": [
       "<pre>Read 2420901 lines. Lines per second: 124570</pre>"
      ],
      "text/plain": [
       "Read 2420901 lines. Lines per second: 124570"
      ]
     },
     "metadata": {},
     "output_type": "display_data"
    },
    {
     "data": {
      "text/html": [
       "<pre>Finished parsing file /Users/ssong/Downloads/WebEcon/train.csv</pre>"
      ],
      "text/plain": [
       "Finished parsing file /Users/ssong/Downloads/WebEcon/train.csv"
      ]
     },
     "metadata": {},
     "output_type": "display_data"
    },
    {
     "data": {
      "text/html": [
       "<pre>Parsing completed. Parsed 2697738 lines in 21.1193 secs.</pre>"
      ],
      "text/plain": [
       "Parsing completed. Parsed 2697738 lines in 21.1193 secs."
      ]
     },
     "metadata": {},
     "output_type": "display_data"
    },
    {
     "data": {
      "text/html": [
       "<pre>Finished parsing file /Users/ssong/Downloads/WebEcon/test.csv</pre>"
      ],
      "text/plain": [
       "Finished parsing file /Users/ssong/Downloads/WebEcon/test.csv"
      ]
     },
     "metadata": {},
     "output_type": "display_data"
    },
    {
     "data": {
      "text/html": [
       "<pre>Parsing completed. Parsed 100 lines in 1.08482 secs.</pre>"
      ],
      "text/plain": [
       "Parsing completed. Parsed 100 lines in 1.08482 secs."
      ]
     },
     "metadata": {},
     "output_type": "display_data"
    },
    {
     "name": "stdout",
     "output_type": "stream",
     "text": [
      "------------------------------------------------------\n",
      "Inferred types from first 100 line(s) of file as \n",
      "column_type_hints=[int,int,str,int,str,str,str,int,int,str,str,str,str,str,int,int,str,str,int,str,str,int,str]\n",
      "If parsing fails due to incorrect types, you can correct\n",
      "the inferred type list above and pass it to read_csv in\n",
      "the column_type_hints argument\n",
      "------------------------------------------------------\n"
     ]
    },
    {
     "data": {
      "text/html": [
       "<pre>Read 192551 lines. Lines per second: 134401</pre>"
      ],
      "text/plain": [
       "Read 192551 lines. Lines per second: 134401"
      ]
     },
     "metadata": {},
     "output_type": "display_data"
    },
    {
     "data": {
      "text/html": [
       "<pre>Finished parsing file /Users/ssong/Downloads/WebEcon/test.csv</pre>"
      ],
      "text/plain": [
       "Finished parsing file /Users/ssong/Downloads/WebEcon/test.csv"
      ]
     },
     "metadata": {},
     "output_type": "display_data"
    },
    {
     "data": {
      "text/html": [
       "<pre>Parsing completed. Parsed 299749 lines in 1.91444 secs.</pre>"
      ],
      "text/plain": [
       "Parsing completed. Parsed 299749 lines in 1.91444 secs."
      ]
     },
     "metadata": {},
     "output_type": "display_data"
    },
    {
     "data": {
      "text/html": [
       "<pre>Finished parsing file /Users/ssong/Downloads/WebEcon/validation.csv</pre>"
      ],
      "text/plain": [
       "Finished parsing file /Users/ssong/Downloads/WebEcon/validation.csv"
      ]
     },
     "metadata": {},
     "output_type": "display_data"
    },
    {
     "data": {
      "text/html": [
       "<pre>Parsing completed. Parsed 100 lines in 1.03974 secs.</pre>"
      ],
      "text/plain": [
       "Parsing completed. Parsed 100 lines in 1.03974 secs."
      ]
     },
     "metadata": {},
     "output_type": "display_data"
    },
    {
     "name": "stdout",
     "output_type": "stream",
     "text": [
      "------------------------------------------------------\n",
      "Inferred types from first 100 line(s) of file as \n",
      "column_type_hints=[int,int,int,str,int,str,str,str,int,int,str,str,str,str,str,int,int,str,str,int,str,int,int,str,int,str]\n",
      "If parsing fails due to incorrect types, you can correct\n",
      "the inferred type list above and pass it to read_csv in\n",
      "the column_type_hints argument\n",
      "------------------------------------------------------\n"
     ]
    },
    {
     "data": {
      "text/html": [
       "<pre>Finished parsing file /Users/ssong/Downloads/WebEcon/validation.csv</pre>"
      ],
      "text/plain": [
       "Finished parsing file /Users/ssong/Downloads/WebEcon/validation.csv"
      ]
     },
     "metadata": {},
     "output_type": "display_data"
    },
    {
     "data": {
      "text/html": [
       "<pre>Parsing completed. Parsed 299749 lines in 1.87206 secs.</pre>"
      ],
      "text/plain": [
       "Parsing completed. Parsed 299749 lines in 1.87206 secs."
      ]
     },
     "metadata": {},
     "output_type": "display_data"
    }
   ],
   "source": [
    "df_train = gl.SFrame('/Users/ssong/Downloads/WebEcon/train.csv')\n",
    "df_test = gl.SFrame('/Users/ssong/Downloads/WebEcon/test.csv')\n",
    "df_val = gl.SFrame('/Users/ssong/Downloads/WebEcon/validation.csv')"
   ]
  },
  {
   "cell_type": "code",
   "execution_count": 3,
   "metadata": {
    "collapsed": true
   },
   "outputs": [],
   "source": [
    "df_train['bid'] = df_train['click'] == 1"
   ]
  },
  {
   "cell_type": "code",
   "execution_count": 4,
   "metadata": {},
   "outputs": [
    {
     "name": "stdout",
     "output_type": "stream",
     "text": [
      "PROGRESS: Creating a validation set from 5 percent of training data. This may take a while.\n",
      "          You can set ``validation_set=None`` to disable validation tracking.\n",
      "\n"
     ]
    },
    {
     "data": {
      "text/html": [
       "<pre>Logistic regression:</pre>"
      ],
      "text/plain": [
       "Logistic regression:"
      ]
     },
     "metadata": {},
     "output_type": "display_data"
    },
    {
     "data": {
      "text/html": [
       "<pre>--------------------------------------------------------</pre>"
      ],
      "text/plain": [
       "--------------------------------------------------------"
      ]
     },
     "metadata": {},
     "output_type": "display_data"
    },
    {
     "data": {
      "text/html": [
       "<pre>Number of examples          : 2563000</pre>"
      ],
      "text/plain": [
       "Number of examples          : 2563000"
      ]
     },
     "metadata": {},
     "output_type": "display_data"
    },
    {
     "data": {
      "text/html": [
       "<pre>Number of classes           : 2</pre>"
      ],
      "text/plain": [
       "Number of classes           : 2"
      ]
     },
     "metadata": {},
     "output_type": "display_data"
    },
    {
     "data": {
      "text/html": [
       "<pre>Number of feature columns   : 6</pre>"
      ],
      "text/plain": [
       "Number of feature columns   : 6"
      ]
     },
     "metadata": {},
     "output_type": "display_data"
    },
    {
     "data": {
      "text/html": [
       "<pre>Number of unpacked features : 6</pre>"
      ],
      "text/plain": [
       "Number of unpacked features : 6"
      ]
     },
     "metadata": {},
     "output_type": "display_data"
    },
    {
     "data": {
      "text/html": [
       "<pre>Number of coefficients    : 18</pre>"
      ],
      "text/plain": [
       "Number of coefficients    : 18"
      ]
     },
     "metadata": {},
     "output_type": "display_data"
    },
    {
     "data": {
      "text/html": [
       "<pre>Starting Newton Method</pre>"
      ],
      "text/plain": [
       "Starting Newton Method"
      ]
     },
     "metadata": {},
     "output_type": "display_data"
    },
    {
     "data": {
      "text/html": [
       "<pre>--------------------------------------------------------</pre>"
      ],
      "text/plain": [
       "--------------------------------------------------------"
      ]
     },
     "metadata": {},
     "output_type": "display_data"
    },
    {
     "data": {
      "text/html": [
       "<pre>+-----------+----------+--------------+-------------------+---------------------+</pre>"
      ],
      "text/plain": [
       "+-----------+----------+--------------+-------------------+---------------------+"
      ]
     },
     "metadata": {},
     "output_type": "display_data"
    },
    {
     "data": {
      "text/html": [
       "<pre>| Iteration | Passes   | Elapsed Time | Training-accuracy | Validation-accuracy |</pre>"
      ],
      "text/plain": [
       "| Iteration | Passes   | Elapsed Time | Training-accuracy | Validation-accuracy |"
      ]
     },
     "metadata": {},
     "output_type": "display_data"
    },
    {
     "data": {
      "text/html": [
       "<pre>+-----------+----------+--------------+-------------------+---------------------+</pre>"
      ],
      "text/plain": [
       "+-----------+----------+--------------+-------------------+---------------------+"
      ]
     },
     "metadata": {},
     "output_type": "display_data"
    },
    {
     "data": {
      "text/html": [
       "<pre>| 1         | 2        | 4.426515     | 0.999243          | 0.999295            |</pre>"
      ],
      "text/plain": [
       "| 1         | 2        | 4.426515     | 0.999243          | 0.999295            |"
      ]
     },
     "metadata": {},
     "output_type": "display_data"
    },
    {
     "data": {
      "text/html": [
       "<pre>| 2         | 3        | 6.594406     | 0.999243          | 0.999295            |</pre>"
      ],
      "text/plain": [
       "| 2         | 3        | 6.594406     | 0.999243          | 0.999295            |"
      ]
     },
     "metadata": {},
     "output_type": "display_data"
    },
    {
     "data": {
      "text/html": [
       "<pre>| 3         | 4        | 8.729652     | 0.999243          | 0.999295            |</pre>"
      ],
      "text/plain": [
       "| 3         | 4        | 8.729652     | 0.999243          | 0.999295            |"
      ]
     },
     "metadata": {},
     "output_type": "display_data"
    },
    {
     "data": {
      "text/html": [
       "<pre>| 4         | 5        | 10.860574    | 0.999243          | 0.999295            |</pre>"
      ],
      "text/plain": [
       "| 4         | 5        | 10.860574    | 0.999243          | 0.999295            |"
      ]
     },
     "metadata": {},
     "output_type": "display_data"
    },
    {
     "data": {
      "text/html": [
       "<pre>| 5         | 6        | 12.622571    | 0.999243          | 0.999295            |</pre>"
      ],
      "text/plain": [
       "| 5         | 6        | 12.622571    | 0.999243          | 0.999295            |"
      ]
     },
     "metadata": {},
     "output_type": "display_data"
    },
    {
     "data": {
      "text/html": [
       "<pre>| 6         | 7        | 14.444344    | 0.999243          | 0.999295            |</pre>"
      ],
      "text/plain": [
       "| 6         | 7        | 14.444344    | 0.999243          | 0.999295            |"
      ]
     },
     "metadata": {},
     "output_type": "display_data"
    },
    {
     "data": {
      "text/html": [
       "<pre>| 7         | 8        | 16.246144    | 0.999243          | 0.999295            |</pre>"
      ],
      "text/plain": [
       "| 7         | 8        | 16.246144    | 0.999243          | 0.999295            |"
      ]
     },
     "metadata": {},
     "output_type": "display_data"
    },
    {
     "data": {
      "text/html": [
       "<pre>| 8         | 9        | 18.123170    | 0.999243          | 0.999295            |</pre>"
      ],
      "text/plain": [
       "| 8         | 9        | 18.123170    | 0.999243          | 0.999295            |"
      ]
     },
     "metadata": {},
     "output_type": "display_data"
    },
    {
     "data": {
      "text/html": [
       "<pre>| 9         | 10       | 20.069322    | 0.999243          | 0.999295            |</pre>"
      ],
      "text/plain": [
       "| 9         | 10       | 20.069322    | 0.999243          | 0.999295            |"
      ]
     },
     "metadata": {},
     "output_type": "display_data"
    },
    {
     "data": {
      "text/html": [
       "<pre>| 10        | 11       | 21.803596    | 0.999243          | 0.999295            |</pre>"
      ],
      "text/plain": [
       "| 10        | 11       | 21.803596    | 0.999243          | 0.999295            |"
      ]
     },
     "metadata": {},
     "output_type": "display_data"
    },
    {
     "data": {
      "text/html": [
       "<pre>| 11        | 12       | 23.453170    | 0.999243          | 0.999295            |</pre>"
      ],
      "text/plain": [
       "| 11        | 12       | 23.453170    | 0.999243          | 0.999295            |"
      ]
     },
     "metadata": {},
     "output_type": "display_data"
    },
    {
     "data": {
      "text/html": [
       "<pre>| 12        | 13       | 25.162167    | 0.999243          | 0.999295            |</pre>"
      ],
      "text/plain": [
       "| 12        | 13       | 25.162167    | 0.999243          | 0.999295            |"
      ]
     },
     "metadata": {},
     "output_type": "display_data"
    },
    {
     "data": {
      "text/html": [
       "<pre>| 13        | 14       | 26.873815    | 0.999243          | 0.999295            |</pre>"
      ],
      "text/plain": [
       "| 13        | 14       | 26.873815    | 0.999243          | 0.999295            |"
      ]
     },
     "metadata": {},
     "output_type": "display_data"
    },
    {
     "data": {
      "text/html": [
       "<pre>| 14        | 15       | 28.856811    | 0.999243          | 0.999295            |</pre>"
      ],
      "text/plain": [
       "| 14        | 15       | 28.856811    | 0.999243          | 0.999295            |"
      ]
     },
     "metadata": {},
     "output_type": "display_data"
    },
    {
     "data": {
      "text/html": [
       "<pre>| 15        | 16       | 30.532146    | 0.999243          | 0.999295            |</pre>"
      ],
      "text/plain": [
       "| 15        | 16       | 30.532146    | 0.999243          | 0.999295            |"
      ]
     },
     "metadata": {},
     "output_type": "display_data"
    },
    {
     "data": {
      "text/html": [
       "<pre>+-----------+----------+--------------+-------------------+---------------------+</pre>"
      ],
      "text/plain": [
       "+-----------+----------+--------------+-------------------+---------------------+"
      ]
     },
     "metadata": {},
     "output_type": "display_data"
    },
    {
     "data": {
      "text/html": [
       "<pre>SUCCESS: Optimal solution found.</pre>"
      ],
      "text/plain": [
       "SUCCESS: Optimal solution found."
      ]
     },
     "metadata": {},
     "output_type": "display_data"
    },
    {
     "data": {
      "text/html": [
       "<pre></pre>"
      ],
      "text/plain": []
     },
     "metadata": {},
     "output_type": "display_data"
    }
   ],
   "source": [
    "model = gl.logistic_classifier.create(df_train, target='bid',\n",
    "                                     features=['region','city','slotvisibility','hour','weekday','slotformat'],\n",
    "                                     max_iterations=100)"
   ]
  },
  {
   "cell_type": "code",
   "execution_count": 5,
   "metadata": {
    "collapsed": true
   },
   "outputs": [],
   "source": [
    "df_val['bid'] = df_val['click'] == 1"
   ]
  },
  {
   "cell_type": "code",
   "execution_count": 6,
   "metadata": {
    "collapsed": true
   },
   "outputs": [],
   "source": [
    "predictions = model.classify(df_val)\n",
    "results = model.evaluate(df_val)"
   ]
  },
  {
   "cell_type": "code",
   "execution_count": 7,
   "metadata": {
    "collapsed": true
   },
   "outputs": [],
   "source": [
    "pred = predictions['probability']"
   ]
  },
  {
   "cell_type": "code",
   "execution_count": 8,
   "metadata": {},
   "outputs": [
    {
     "data": {
      "text/plain": [
       "{'accuracy': 0.9992460358499945,\n",
       " 'auc': 0.5951389700774693,\n",
       " 'confusion_matrix': Columns:\n",
       " \ttarget_label\tint\n",
       " \tpredicted_label\tint\n",
       " \tcount\tint\n",
       " \n",
       " Rows: 2\n",
       " \n",
       " Data:\n",
       " +--------------+-----------------+--------+\n",
       " | target_label | predicted_label | count  |\n",
       " +--------------+-----------------+--------+\n",
       " |      1       |        0        |  226   |\n",
       " |      0       |        0        | 299523 |\n",
       " +--------------+-----------------+--------+\n",
       " [2 rows x 3 columns],\n",
       " 'f1_score': 0.0,\n",
       " 'log_loss': 0.0060404071578053315,\n",
       " 'precision': None,\n",
       " 'recall': 0.0,\n",
       " 'roc_curve': Columns:\n",
       " \tthreshold\tfloat\n",
       " \tfpr\tfloat\n",
       " \ttpr\tfloat\n",
       " \tp\tint\n",
       " \tn\tint\n",
       " \n",
       " Rows: 100001\n",
       " \n",
       " Data:\n",
       " +-----------+----------------+-----+-----+--------+\n",
       " | threshold |      fpr       | tpr |  p  |   n    |\n",
       " +-----------+----------------+-----+-----+--------+\n",
       " |    0.0    |      1.0       | 1.0 | 226 | 299523 |\n",
       " |   1e-05   | 0.999612717554 | 1.0 | 226 | 299523 |\n",
       " |   2e-05   | 0.999612717554 | 1.0 | 226 | 299523 |\n",
       " |   3e-05   | 0.999612717554 | 1.0 | 226 | 299523 |\n",
       " |   4e-05   | 0.999612717554 | 1.0 | 226 | 299523 |\n",
       " |   5e-05   | 0.999612717554 | 1.0 | 226 | 299523 |\n",
       " |   6e-05   | 0.999612717554 | 1.0 | 226 | 299523 |\n",
       " |   7e-05   | 0.999612717554 | 1.0 | 226 | 299523 |\n",
       " |   8e-05   | 0.999612717554 | 1.0 | 226 | 299523 |\n",
       " |   9e-05   | 0.999245466959 | 1.0 | 226 | 299523 |\n",
       " +-----------+----------------+-----+-----+--------+\n",
       " [100001 rows x 5 columns]\n",
       " Note: Only the head of the SFrame is printed.\n",
       " You can use print_rows(num_rows=m, num_columns=n) to print more rows and columns.}"
      ]
     },
     "execution_count": 8,
     "metadata": {},
     "output_type": "execute_result"
    }
   ],
   "source": [
    "results"
   ]
  },
  {
   "cell_type": "code",
   "execution_count": null,
   "metadata": {
    "collapsed": true
   },
   "outputs": [],
   "source": []
  }
 ],
 "metadata": {
  "kernelspec": {
   "display_name": "Python 2",
   "language": "python",
   "name": "python2"
  },
  "language_info": {
   "codemirror_mode": {
    "name": "ipython",
    "version": 2
   },
   "file_extension": ".py",
   "mimetype": "text/x-python",
   "name": "python",
   "nbconvert_exporter": "python",
   "pygments_lexer": "ipython2",
   "version": "2.7.13"
  }
 },
 "nbformat": 4,
 "nbformat_minor": 2
}
